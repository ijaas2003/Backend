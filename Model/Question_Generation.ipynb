{
  "cells": [
    {
      "cell_type": "code",
      "execution_count": 4,
      "metadata": {
        "colab": {
          "base_uri": "https://localhost:8080/"
        },
        "id": "6k42rDoo6sr6",
        "outputId": "c3472b18-3073-4130-f6ba-09994859677e"
      },
      "outputs": [
        {
          "name": "stdout",
          "output_type": "stream",
          "text": [
            "Requirement already satisfied: nltk in c:\\users\\ijaas\\appdata\\local\\programs\\python\\python311\\lib\\site-packages (3.8.1)\n",
            "Requirement already satisfied: click in c:\\users\\ijaas\\appdata\\local\\programs\\python\\python311\\lib\\site-packages (from nltk) (8.1.7)\n",
            "Requirement already satisfied: joblib in c:\\users\\ijaas\\appdata\\local\\programs\\python\\python311\\lib\\site-packages (from nltk) (1.3.2)\n",
            "Requirement already satisfied: regex>=2021.8.3 in c:\\users\\ijaas\\appdata\\local\\programs\\python\\python311\\lib\\site-packages (from nltk) (2023.12.25)\n",
            "Requirement already satisfied: tqdm in c:\\users\\ijaas\\appdata\\local\\programs\\python\\python311\\lib\\site-packages (from nltk) (4.66.1)\n",
            "Requirement already satisfied: colorama in c:\\users\\ijaas\\appdata\\local\\programs\\python\\python311\\lib\\site-packages (from click->nltk) (0.4.6)\n",
            "Requirement already satisfied: transformers in c:\\users\\ijaas\\appdata\\local\\programs\\python\\python311\\lib\\site-packages (4.36.2)\n",
            "Requirement already satisfied: filelock in c:\\users\\ijaas\\appdata\\roaming\\python\\python311\\site-packages (from transformers) (3.13.1)\n",
            "Requirement already satisfied: huggingface-hub<1.0,>=0.19.3 in c:\\users\\ijaas\\appdata\\local\\programs\\python\\python311\\lib\\site-packages (from transformers) (0.20.2)\n",
            "Requirement already satisfied: numpy>=1.17 in c:\\users\\ijaas\\appdata\\local\\programs\\python\\python311\\lib\\site-packages (from transformers) (1.25.2)\n",
            "Requirement already satisfied: packaging>=20.0 in c:\\users\\ijaas\\appdata\\local\\programs\\python\\python311\\lib\\site-packages (from transformers) (23.1)\n",
            "Requirement already satisfied: pyyaml>=5.1 in c:\\users\\ijaas\\appdata\\local\\programs\\python\\python311\\lib\\site-packages (from transformers) (6.0.1)\n",
            "Requirement already satisfied: regex!=2019.12.17 in c:\\users\\ijaas\\appdata\\local\\programs\\python\\python311\\lib\\site-packages (from transformers) (2023.12.25)\n",
            "Requirement already satisfied: requests in c:\\users\\ijaas\\appdata\\local\\programs\\python\\python311\\lib\\site-packages (from transformers) (2.31.0)\n",
            "Requirement already satisfied: tokenizers<0.19,>=0.14 in c:\\users\\ijaas\\appdata\\local\\programs\\python\\python311\\lib\\site-packages (from transformers) (0.15.0)\n",
            "Requirement already satisfied: safetensors>=0.3.1 in c:\\users\\ijaas\\appdata\\local\\programs\\python\\python311\\lib\\site-packages (from transformers) (0.4.1)\n",
            "Requirement already satisfied: tqdm>=4.27 in c:\\users\\ijaas\\appdata\\local\\programs\\python\\python311\\lib\\site-packages (from transformers) (4.66.1)\n",
            "Requirement already satisfied: fsspec>=2023.5.0 in c:\\users\\ijaas\\appdata\\local\\programs\\python\\python311\\lib\\site-packages (from huggingface-hub<1.0,>=0.19.3->transformers) (2023.12.2)\n",
            "Requirement already satisfied: typing-extensions>=3.7.4.3 in c:\\users\\ijaas\\appdata\\local\\programs\\python\\python311\\lib\\site-packages (from huggingface-hub<1.0,>=0.19.3->transformers) (4.9.0)\n",
            "Requirement already satisfied: colorama in c:\\users\\ijaas\\appdata\\local\\programs\\python\\python311\\lib\\site-packages (from tqdm>=4.27->transformers) (0.4.6)\n",
            "Requirement already satisfied: charset-normalizer<4,>=2 in c:\\users\\ijaas\\appdata\\local\\programs\\python\\python311\\lib\\site-packages (from requests->transformers) (3.3.2)\n",
            "Requirement already satisfied: idna<4,>=2.5 in c:\\users\\ijaas\\appdata\\local\\programs\\python\\python311\\lib\\site-packages (from requests->transformers) (3.6)\n",
            "Requirement already satisfied: urllib3<3,>=1.21.1 in c:\\users\\ijaas\\appdata\\local\\programs\\python\\python311\\lib\\site-packages (from requests->transformers) (2.1.0)\n",
            "Requirement already satisfied: certifi>=2017.4.17 in c:\\users\\ijaas\\appdata\\roaming\\python\\python311\\site-packages (from requests->transformers) (2023.11.17)\n",
            "Requirement already satisfied: PyPDF2 in c:\\users\\ijaas\\appdata\\local\\programs\\python\\python311\\lib\\site-packages (3.0.1)\n"
          ]
        }
      ],
      "source": [
        "%!pip install nltk\n",
        "%!pip install transformers\n",
        "%!pip install PyPDF2"
      ]
    },
    {
      "cell_type": "code",
      "execution_count": 1,
      "metadata": {
        "id": "dw_-c-f93V8u"
      },
      "outputs": [],
      "source": [
        "import random\n",
        "import numpy as np\n",
        "import nltk"
      ]
    },
    {
      "cell_type": "code",
      "execution_count": 2,
      "metadata": {
        "colab": {
          "base_uri": "https://localhost:8080/"
        },
        "id": "7-hqC_yjIj3Y",
        "outputId": "71bcd8af-437c-4ecf-88b8-200d43dd812f"
      },
      "outputs": [
        {
          "name": "stderr",
          "output_type": "stream",
          "text": [
            "[nltk_data] Downloading package stopwords to\n",
            "[nltk_data]     C:\\Users\\ijaas\\AppData\\Roaming\\nltk_data...\n",
            "[nltk_data]   Package stopwords is already up-to-date!\n",
            "[nltk_data] Downloading package punkt to\n",
            "[nltk_data]     C:\\Users\\ijaas\\AppData\\Roaming\\nltk_data...\n",
            "[nltk_data]   Package punkt is already up-to-date!\n"
          ]
        },
        {
          "data": {
            "text/plain": [
              "True"
            ]
          },
          "execution_count": 2,
          "metadata": {},
          "output_type": "execute_result"
        }
      ],
      "source": [
        "nltk.download('stopwords')\n",
        "nltk.download('punkt')"
      ]
    },
    {
      "cell_type": "code",
      "execution_count": 3,
      "metadata": {
        "id": "G2l6SWJ16eE8"
      },
      "outputs": [
        {
          "name": "stderr",
          "output_type": "stream",
          "text": [
            "c:\\Users\\ijaas\\AppData\\Local\\Programs\\Python\\Python311\\Lib\\site-packages\\tqdm\\auto.py:21: TqdmWarning: IProgress not found. Please update jupyter and ipywidgets. See https://ipywidgets.readthedocs.io/en/stable/user_install.html\n",
            "  from .autonotebook import tqdm as notebook_tqdm\n"
          ]
        }
      ],
      "source": [
        "from nltk.tokenize import sent_tokenize, word_tokenize\n",
        "import spacy\n",
        "from spacy.lang.en.stop_words import STOP_WORDS\n",
        "from string import punctuation\n",
        "from nltk.corpus import stopwords\n",
        "from transformers import T5ForConditionalGeneration, T5Tokenizer\n",
        "import torch"
      ]
    },
    {
      "cell_type": "code",
      "execution_count": 4,
      "metadata": {
        "id": "GnsQcsBVCC7Y"
      },
      "outputs": [],
      "source": [
        "from heapq import nlargest"
      ]
    },
    {
      "cell_type": "code",
      "execution_count": 5,
      "metadata": {
        "colab": {
          "base_uri": "https://localhost:8080/"
        },
        "id": "7FkonFzJQe0a",
        "outputId": "efe4f59b-f7f6-448b-aae0-c47c66498323"
      },
      "outputs": [
        {
          "name": "stdout",
          "output_type": "stream",
          "text": [
            "c:\\My\\HTML\\demo\\Final_Year_Project\\Project\\Pdf\\Tamil Nadu.pdf\n",
            "Page N01\n",
            " \n",
            "Tamil Nadu, located in the southern part of India, has a diverse economy with a mix of agriculture, \n",
            "manufacturing, and services sectors. In the early 2000s, the state experienced significant growth, \n",
            "driven by industries such as textiles, automobiles, elect ronics, and software services. Chennai, the \n",
            "capital city, emerged as a major hub for IT and IT -enabled services, attracting investments from both \n",
            "domestic and international firms.  \n",
            " \n",
            "The agricultural sector remains important, with rice, sugarcane, and cotton being the primary crops. \n",
            "Tamil Nadu is also a leader in horticulture, producing fruits and vegetables for domestic \n",
            "consumption and export.  \n",
            " \n",
            "The state government has been proactive in promoting industrial development through various \n",
            "incentives and policies, leading to the establishment of industrial estates and special economic \n",
            "zones.  \n",
            " \n",
            "However, Tamil Nadu faces challenges such as water scarcity, infrastructure bottlenecks, and skill \n",
            "shortages. Despite these challenges, the state's economy continued to grow steadily during the \n",
            "2000s, contributing significantly to India's overall economic growth.  \n",
            " \n",
            "Overall, Tamil Nadu's economy in the early 2000s was characterized by a vibrant industrial sector, \n",
            "supported by a robust services industry and a resilient agricultural base . \n",
            " \n"
          ]
        }
      ],
      "source": [
        "import os\n",
        "from PyPDF2 import PdfReader\n",
        "def Conversion(file_name):\n",
        "\tcurrent_directory = os.getcwd();\n",
        "\tparent_dir = os.path.dirname(current_directory)\n",
        "\tfile_path = os.path.join(parent_dir, 'Pdf', file_name);\n",
        "\tprint(file_path);\n",
        "\textracted_text = \"\";\n",
        "\twith open(file_path, \"rb\") as pdf_file:\n",
        "\t\tpdf_reader = PdfReader(pdf_file)\n",
        "\t\tx = 1;\n",
        "\t\tfor page in pdf_reader.pages:\n",
        "\t\t\textracted_text += \"Page N0\"+ str(x) + '\\n';\n",
        "\t\t\textracted_text += page.extract_text();\n",
        "\t\t\tx += 1\n",
        "\treturn extracted_text;\n",
        "text = Conversion(\"Tamil Nadu.pdf\")\n",
        "print(text)\n"
      ]
    },
    {
      "cell_type": "code",
      "execution_count": null,
      "metadata": {
        "id": "0EhfYxPkGSiE"
      },
      "outputs": [],
      "source": []
    },
    {
      "cell_type": "code",
      "execution_count": 6,
      "metadata": {
        "colab": {
          "base_uri": "https://localhost:8080/",
          "height": 157
        },
        "id": "ISnqXjSXrFGN",
        "outputId": "cd9e95d2-cd47-4478-dd5c-930c2b127c84"
      },
      "outputs": [
        {
          "data": {
            "text/plain": [
              "\"Page N01\\n \\nTamil Nadu, located in the southern part of India, has a diverse economy with a mix of agriculture, \\nmanufacturing, and services sectors. In the early 2000s, the state experienced significant growth, \\ndriven by industries such as textiles, automobiles, elect ronics, and software services. Chennai, the \\ncapital city, emerged as a major hub for IT and IT -enabled services, attracting investments from both \\ndomestic and international firms.  \\n \\nThe agricultural sector remains important, with rice, sugarcane, and cotton being the primary crops. \\nTamil Nadu is also a leader in horticulture, producing fruits and vegetables for domestic \\nconsumption and export.  \\n \\nThe state government has been proactive in promoting industrial development through various \\nincentives and policies, leading to the establishment of industrial estates and special economic \\nzones.  \\n \\nHowever, Tamil Nadu faces challenges such as water scarcity, infrastructure bottlenecks, and skill \\nshortages. Despite these challenges, the state's economy continued to grow steadily during the \\n2000s, contributing significantly to India's overall economic growth.  \\n \\nOverall, Tamil Nadu's economy in the early 2000s was characterized by a vibrant industrial sector, \\nsupported by a robust services industry and a resilient agricultural base . \\n \""
            ]
          },
          "execution_count": 6,
          "metadata": {},
          "output_type": "execute_result"
        }
      ],
      "source": [
        "text"
      ]
    },
    {
      "cell_type": "code",
      "execution_count": 7,
      "metadata": {
        "colab": {
          "base_uri": "https://localhost:8080/"
        },
        "id": "hqDyoc4YGNQI",
        "outputId": "53515624-eadd-4615-f976-95ce92faff51"
      },
      "outputs": [
        {
          "name": "stdout",
          "output_type": "stream",
          "text": [
            "['Page', 'N01', 'Tamil', 'Nadu', ',', 'located', 'in', 'the', 'southern', 'part', 'of', 'India', ',', 'has', 'a', 'diverse', 'economy', 'with', 'a', 'mix', 'of', 'agriculture', ',', 'manufacturing', ',', 'and', 'services', 'sectors', '.', 'In', 'the', 'early', '2000s', ',', 'the', 'state', 'experienced', 'significant', 'growth', ',', 'driven', 'by', 'industries', 'such', 'as', 'textiles', ',', 'automobiles', ',', 'elect', 'ronics', ',', 'and', 'software', 'services', '.', 'Chennai', ',', 'the', 'capital', 'city', ',', 'emerged', 'as', 'a', 'major', 'hub', 'for', 'IT', 'and', 'IT', '-enabled', 'services', ',', 'attracting', 'investments', 'from', 'both', 'domestic', 'and', 'international', 'firms', '.', 'The', 'agricultural', 'sector', 'remains', 'important', ',', 'with', 'rice', ',', 'sugarcane', ',', 'and', 'cotton', 'being', 'the', 'primary', 'crops', '.', 'Tamil', 'Nadu', 'is', 'also', 'a', 'leader', 'in', 'horticulture', ',', 'producing', 'fruits', 'and', 'vegetables', 'for', 'domestic', 'consumption', 'and', 'export', '.', 'The', 'state', 'government', 'has', 'been', 'proactive', 'in', 'promoting', 'industrial', 'development', 'through', 'various', 'incentives', 'and', 'policies', ',', 'leading', 'to', 'the', 'establishment', 'of', 'industrial', 'estates', 'and', 'special', 'economic', 'zones', '.', 'However', ',', 'Tamil', 'Nadu', 'faces', 'challenges', 'such', 'as', 'water', 'scarcity', ',', 'infrastructure', 'bottlenecks', ',', 'and', 'skill', 'shortages', '.', 'Despite', 'these', 'challenges', ',', 'the', 'state', \"'s\", 'economy', 'continued', 'to', 'grow', 'steadily', 'during', 'the', '2000s', ',', 'contributing', 'significantly', 'to', 'India', \"'s\", 'overall', 'economic', 'growth', '.', 'Overall', ',', 'Tamil', 'Nadu', \"'s\", 'economy', 'in', 'the', 'early', '2000s', 'was', 'characterized', 'by', 'a', 'vibrant', 'industrial', 'sector', ',', 'supported', 'by', 'a', 'robust', 'services', 'industry', 'and', 'a', 'resilient', 'agricultural', 'base', '.']\n"
          ]
        }
      ],
      "source": [
        "word_token = word_tokenize(text)\n",
        "print(word_token)"
      ]
    },
    {
      "cell_type": "code",
      "execution_count": 8,
      "metadata": {
        "id": "qlBDpTQmpqa9"
      },
      "outputs": [],
      "source": [
        "stop_words = nltk.corpus.stopwords.words('english')"
      ]
    },
    {
      "cell_type": "code",
      "execution_count": 9,
      "metadata": {
        "colab": {
          "base_uri": "https://localhost:8080/"
        },
        "id": "s8-OdJvUptZd",
        "outputId": "913e0a54-d310-4a71-e515-a33e2723abf0"
      },
      "outputs": [
        {
          "name": "stdout",
          "output_type": "stream",
          "text": [
            "['i', 'me', 'my', 'myself', 'we', 'our', 'ours', 'ourselves', 'you', \"you're\", \"you've\", \"you'll\", \"you'd\", 'your', 'yours', 'yourself', 'yourselves', 'he', 'him', 'his', 'himself', 'she', \"she's\", 'her', 'hers', 'herself', 'it', \"it's\", 'its', 'itself', 'they', 'them', 'their', 'theirs', 'themselves', 'what', 'which', 'who', 'whom', 'this', 'that', \"that'll\", 'these', 'those', 'am', 'is', 'are', 'was', 'were', 'be', 'been', 'being', 'have', 'has', 'had', 'having', 'do', 'does', 'did', 'doing', 'a', 'an', 'the', 'and', 'but', 'if', 'or', 'because', 'as', 'until', 'while', 'of', 'at', 'by', 'for', 'with', 'about', 'against', 'between', 'into', 'through', 'during', 'before', 'after', 'above', 'below', 'to', 'from', 'up', 'down', 'in', 'out', 'on', 'off', 'over', 'under', 'again', 'further', 'then', 'once', 'here', 'there', 'when', 'where', 'why', 'how', 'all', 'any', 'both', 'each', 'few', 'more', 'most', 'other', 'some', 'such', 'no', 'nor', 'not', 'only', 'own', 'same', 'so', 'than', 'too', 'very', 's', 't', 'can', 'will', 'just', 'don', \"don't\", 'should', \"should've\", 'now', 'd', 'll', 'm', 'o', 're', 've', 'y', 'ain', 'aren', \"aren't\", 'couldn', \"couldn't\", 'didn', \"didn't\", 'doesn', \"doesn't\", 'hadn', \"hadn't\", 'hasn', \"hasn't\", 'haven', \"haven't\", 'isn', \"isn't\", 'ma', 'mightn', \"mightn't\", 'mustn', \"mustn't\", 'needn', \"needn't\", 'shan', \"shan't\", 'shouldn', \"shouldn't\", 'wasn', \"wasn't\", 'weren', \"weren't\", 'won', \"won't\", 'wouldn', \"wouldn't\"]\n"
          ]
        }
      ],
      "source": [
        "stop = list(stop_words)\n",
        "print(stop)"
      ]
    },
    {
      "cell_type": "code",
      "execution_count": 10,
      "metadata": {
        "colab": {
          "base_uri": "https://localhost:8080/"
        },
        "id": "QPkqVCBrJhhe",
        "outputId": "e249b7b6-7263-444c-80db-40aaa199eb4b"
      },
      "outputs": [
        {
          "name": "stdout",
          "output_type": "stream",
          "text": [
            "['none', 'never', 'below', 'although', 'becoming', 'each', 'neither', 'really', 'my', 'all', 'whereupon', 'thereupon', 'themselves', 'thence', 'them', 'whole', 'give', 'beyond', 'were', 'at', 'as', 'from', 'does', 'show', 'whom', 'about', 'no', 'became', 'same', 'everyone', 'hence', 'please', 'had', 'anyhow', 'next', 'this', \"'ve\", 'even', 'hereupon', 'because', 'put', 'ourselves', 'after', 'someone', 'himself', 'further', 'over', 'and', 'hereby', 'via', 'in', 'off', 'they', 'along', 'who', 'sometimes', 'hereafter', 'wherever', 'forty', 'him', 'see', 'once', 'n‘t', 'per', 'doing', 'least', 'the', 'anything', 'against', 'seeming', 'together', 'she', 'ten', 'eight', 'a', 'seems', 'has', 'various', 'somewhere', 'whenever', 'very', 'whereas', 'seemed', \"n't\", 'on', 'behind', 'however', 'whither', 'while', 'alone', 'own', 'out', 'would', 'bottom', 'get', 'except', 'twenty', 'either', 'mostly', 'that', 'only', '‘ve', 'serious', 'amongst', 'almost', 're', 'did', 'fifty', 'more', 'every', 'both', 'afterwards', 'any', 'where', 'whatever', 'must', 'above', 'now', 'itself', 'these', 'throughout', 'latterly', 'latter', 'amount', 'not', 'toward', 'three', 'otherwise', 'for', 'quite', 'already', 'wherein', 'what', 'due', 'was', 'until', '‘d', 'without', 'yourselves', '’re', 'nevertheless', 'then', 'herein', 'onto', 'can', 'am', 'sixty', 'or', 'elsewhere', 'make', 'noone', 'there', 'top', 'around', 'yet', 'her', 'one', 'twelve', 'between', 'many', 'others', \"'d\", 'anywhere', 'which', 'yourself', 'cannot', 'hers', 'other', 'take', 'nor', 'is', 'so', 'former', 'across', 'how', 'such', 'be', 'our', 'hundred', 'mine', 'enough', 'somehow', 'everything', 'beside', 'whose', 'sometime', 'often', 'being', 'go', 'last', 'when', 'five', 'up', 'namely', 'first', 'you', 'back', 'moreover', '’ve', 'ours', 'front', 'meanwhile', 'rather', 'whereby', 'less', 'move', 'do', 'it', 'much', 'full', 'several', 'myself', 'beforehand', '‘re', '‘s', '’ll', 'some', 'using', 'nowhere', 'here', 'done', 'few', 'say', 'four', 'besides', 'another', 'become', 'should', 'anyone', 'most', 'everywhere', 'could', 'third', 'by', 'fifteen', 'ever', 'into', 'under', 'ca', 'eleven', 'within', 'whence', \"'s\", 'name', 'something', 'their', 'towards', 'always', 'perhaps', 'again', 'thus', 'six', 'call', 'me', 'therein', 'through', 'are', 'two', 'with', 'may', 'whereafter', \"'m\", 'seem', 'n’t', 'thereafter', 'during', '‘ll', 'nine', 'have', 'unless', 'its', 'part', 'nothing', 'those', 'side', 'formerly', 'us', 'his', 'still', 'whoever', 'might', 'if', 'will', \"'re\", 'why', 'of', 'thru', '’s', 'upon', 'since', 'he', 'regarding', 'used', 'herself', 'before', 'nobody', 'anyway', 'but', 'indeed', 'than', 'an', 'yours', 'else', 'i', 'to', '’m', 'keep', 'empty', 'though', 'been', 'we', 'your', '‘m', 'well', 'becomes', 'down', 'just', 'whether', 'also', 'too', '’d', 'made', 'thereby', 'among', 'therefore', \"'ll\"]\n"
          ]
        }
      ],
      "source": [
        "st = list(STOP_WORDS)\n",
        "print(st)"
      ]
    },
    {
      "cell_type": "code",
      "execution_count": 11,
      "metadata": {
        "colab": {
          "base_uri": "https://localhost:8080/"
        },
        "id": "qCIGnsuGdqBJ",
        "outputId": "0eaf9fe1-13ec-4ff5-f587-77b765dc008f"
      },
      "outputs": [
        {
          "name": "stdout",
          "output_type": "stream",
          "text": [
            "['i', 'me', 'my', 'myself', 'we', 'our', 'ours', 'ourselves', 'you', \"you're\", \"you've\", \"you'll\", \"you'd\", 'your', 'yours', 'yourself', 'yourselves', 'he', 'him', 'his', 'himself', 'she', \"she's\", 'her', 'hers', 'herself', 'it', \"it's\", 'its', 'itself', 'they', 'them', 'their', 'theirs', 'themselves', 'what', 'which', 'who', 'whom', 'this', 'that', \"that'll\", 'these', 'those', 'am', 'is', 'are', 'was', 'were', 'be', 'been', 'being', 'have', 'has', 'had', 'having', 'do', 'does', 'did', 'doing', 'a', 'an', 'the', 'and', 'but', 'if', 'or', 'because', 'as', 'until', 'while', 'of', 'at', 'by', 'for', 'with', 'about', 'against', 'between', 'into', 'through', 'during', 'before', 'after', 'above', 'below', 'to', 'from', 'up', 'down', 'in', 'out', 'on', 'off', 'over', 'under', 'again', 'further', 'then', 'once', 'here', 'there', 'when', 'where', 'why', 'how', 'all', 'any', 'both', 'each', 'few', 'more', 'most', 'other', 'some', 'such', 'no', 'nor', 'not', 'only', 'own', 'same', 'so', 'than', 'too', 'very', 's', 't', 'can', 'will', 'just', 'don', \"don't\", 'should', \"should've\", 'now', 'd', 'll', 'm', 'o', 're', 've', 'y', 'ain', 'aren', \"aren't\", 'couldn', \"couldn't\", 'didn', \"didn't\", 'doesn', \"doesn't\", 'hadn', \"hadn't\", 'hasn', \"hasn't\", 'haven', \"haven't\", 'isn', \"isn't\", 'ma', 'mightn', \"mightn't\", 'mustn', \"mustn't\", 'needn', \"needn't\", 'shan', \"shan't\", 'shouldn', \"shouldn't\", 'wasn', \"wasn't\", 'weren', \"weren't\", 'won', \"won't\", 'wouldn', \"wouldn't\", 'none', 'never', 'although', 'becoming', 'neither', 'really', 'whereupon', 'thereupon', 'thence', 'whole', 'give', 'beyond', 'show', 'became', 'everyone', 'hence', 'please', 'anyhow', 'next', \"'ve\", 'even', 'hereupon', 'put', 'someone', 'hereby', 'via', 'along', 'sometimes', 'hereafter', 'wherever', 'forty', 'see', 'n‘t', 'per', 'least', 'anything', 'seeming', 'together', 'ten', 'eight', 'seems', 'various', 'somewhere', 'whenever', 'whereas', 'seemed', \"n't\", 'behind', 'however', 'whither', 'alone', 'would', 'bottom', 'get', 'except', 'twenty', 'either', 'mostly', '‘ve', 'serious', 'amongst', 'almost', 'fifty', 'every', 'afterwards', 'whatever', 'must', 'throughout', 'latterly', 'latter', 'amount', 'toward', 'three', 'otherwise', 'quite', 'already', 'wherein', 'due', '‘d', 'without', '’re', 'nevertheless', 'herein', 'onto', 'sixty', 'elsewhere', 'make', 'noone', 'top', 'around', 'yet', 'one', 'twelve', 'many', 'others', \"'d\", 'anywhere', 'cannot', 'take', 'former', 'across', 'hundred', 'mine', 'enough', 'somehow', 'everything', 'beside', 'whose', 'sometime', 'often', 'go', 'last', 'five', 'namely', 'first', 'back', 'moreover', '’ve', 'front', 'meanwhile', 'rather', 'whereby', 'less', 'move', 'much', 'full', 'several', 'beforehand', '‘re', '‘s', '’ll', 'using', 'nowhere', 'done', 'say', 'four', 'besides', 'another', 'become', 'anyone', 'everywhere', 'could', 'third', 'fifteen', 'ever', 'ca', 'eleven', 'within', 'whence', \"'s\", 'name', 'something', 'towards', 'always', 'perhaps', 'thus', 'six', 'call', 'therein', 'two', 'may', 'whereafter', \"'m\", 'seem', 'n’t', 'thereafter', '‘ll', 'nine', 'unless', 'part', 'nothing', 'side', 'formerly', 'us', 'still', 'whoever', 'might', \"'re\", 'thru', '’s', 'upon', 'since', 'regarding', 'used', 'nobody', 'anyway', 'indeed', 'else', '’m', 'keep', 'empty', 'though', '‘m', 'well', 'becomes', 'whether', 'also', '’d', 'made', 'thereby', 'among', 'therefore', \"'ll\"]\n"
          ]
        }
      ],
      "source": [
        "for element in st:\n",
        "    if element not in stop:\n",
        "        stop.append(element)\n",
        "\n",
        "print(stop)\n"
      ]
    },
    {
      "cell_type": "code",
      "execution_count": 12,
      "metadata": {
        "id": "dQdNPgkHlcXo"
      },
      "outputs": [],
      "source": [
        "nlp = spacy.load('en_core_web_md')"
      ]
    },
    {
      "cell_type": "code",
      "execution_count": 13,
      "metadata": {
        "colab": {
          "base_uri": "https://localhost:8080/"
        },
        "id": "qoFd3BF-jren",
        "outputId": "b19a7a26-8057-4fee-823b-6300a96d5cbf"
      },
      "outputs": [
        {
          "name": "stdout",
          "output_type": "stream",
          "text": [
            "Page N01\n",
            " \n",
            "Tamil Nadu, located in the southern part of India, has a diverse economy with a mix of agriculture, \n",
            "manufacturing, and services sectors. In the early 2000s, the state experienced significant growth, \n",
            "driven by industries such as textiles, automobiles, elect ronics, and software services. Chennai, the \n",
            "capital city, emerged as a major hub for IT and IT -enabled services, attracting investments from both \n",
            "domestic and international firms.  \n",
            " \n",
            "The agricultural sector remains important, with rice, sugarcane, and cotton being the primary crops. \n",
            "Tamil Nadu is also a leader in horticulture, producing fruits and vegetables for domestic \n",
            "consumption and export.  \n",
            " \n",
            "The state government has been proactive in promoting industrial development through various \n",
            "incentives and policies, leading to the establishment of industrial estates and special economic \n",
            "zones.  \n",
            " \n",
            "However, Tamil Nadu faces challenges such as water scarcity, infrastructure bottlenecks, and skill \n",
            "shortages. Despite these challenges, the state's economy continued to grow steadily during the \n",
            "2000s, contributing significantly to India's overall economic growth.  \n",
            " \n",
            "Overall, Tamil Nadu's economy in the early 2000s was characterized by a vibrant industrial sector, \n",
            "supported by a robust services industry and a resilient agricultural base . \n",
            " \n"
          ]
        }
      ],
      "source": [
        "doc=nlp(text)\n",
        "print(doc)\n"
      ]
    },
    {
      "cell_type": "code",
      "execution_count": 14,
      "metadata": {
        "colab": {
          "base_uri": "https://localhost:8080/",
          "height": 35
        },
        "id": "X5qylOypHvZb",
        "outputId": "f5a03b88-63d7-468f-b833-ee4c3ba155e4"
      },
      "outputs": [
        {
          "data": {
            "text/plain": [
              "'!\"#$%&\\'()*+,-./:;<=>?@[\\\\]^_`{|}~'"
            ]
          },
          "execution_count": 14,
          "metadata": {},
          "output_type": "execute_result"
        }
      ],
      "source": [
        "punctuation"
      ]
    },
    {
      "cell_type": "code",
      "execution_count": 15,
      "metadata": {
        "id": "_9ANnqsQziFd"
      },
      "outputs": [],
      "source": [
        "punctuation_chars = set(punctuation)\n",
        "punctuation_chars.remove('-')\n",
        "punctuation_chars.add('\\n')\n",
        "punctuation=list(punctuation_chars)"
      ]
    },
    {
      "cell_type": "code",
      "execution_count": 16,
      "metadata": {
        "colab": {
          "base_uri": "https://localhost:8080/"
        },
        "id": "sCubT5HMzjCF",
        "outputId": "28a0cf7a-d958-435f-9f72-a3103a5fe192"
      },
      "outputs": [
        {
          "name": "stdout",
          "output_type": "stream",
          "text": [
            "['?', ')', '[', '(', '+', '@', '|', ':', '~', '&', '^', '`', '.', '/', \"'\", '#', '{', '=', '}', '_', '\"', '!', ';', '\\n', ']', '$', '\\\\', '%', ',', '<', '*', '>']\n"
          ]
        }
      ],
      "source": [
        "print(punctuation)"
      ]
    },
    {
      "cell_type": "code",
      "execution_count": 17,
      "metadata": {
        "colab": {
          "base_uri": "https://localhost:8080/"
        },
        "id": "9po6KfBsit-X",
        "outputId": "67a16aac-c44a-499c-b03b-5404eba3b650"
      },
      "outputs": [
        {
          "name": "stdout",
          "output_type": "stream",
          "text": [
            "{'Page': 1, 'N01': 1, '\\n \\n': 1, 'Tamil': 4, 'Nadu': 4, 'located': 1, 'southern': 1, 'India': 2, 'diverse': 1, 'economy': 3, 'mix': 1, 'agriculture': 1, 'manufacturing': 1, 'services': 4, 'sectors': 1, 'early': 2, '2000s': 3, 'state': 3, 'experienced': 1, 'significant': 1, 'growth': 2, 'driven': 1, 'industries': 1, 'textiles': 1, 'automobiles': 1, 'elect': 1, 'ronics': 1, 'software': 1, 'Chennai': 1, 'capital': 1, 'city': 1, 'emerged': 1, 'major': 1, 'hub': 1, '-enabled': 1, 'attracting': 1, 'investments': 1, 'domestic': 2, 'international': 1, 'firms': 1, ' \\n \\n': 4, 'agricultural': 2, 'sector': 2, 'remains': 1, 'important': 1, 'rice': 1, 'sugarcane': 1, 'cotton': 1, 'primary': 1, 'crops': 1, 'leader': 1, 'horticulture': 1, 'producing': 1, 'fruits': 1, 'vegetables': 1, 'consumption': 1, 'export': 1, 'government': 1, 'proactive': 1, 'promoting': 1, 'industrial': 3, 'development': 1, 'incentives': 1, 'policies': 1, 'leading': 1, 'establishment': 1, 'estates': 1, 'special': 1, 'economic': 2, 'zones': 1, 'faces': 1, 'challenges': 2, 'water': 1, 'scarcity': 1, 'infrastructure': 1, 'bottlenecks': 1, 'skill': 1, 'shortages': 1, 'Despite': 1, 'continued': 1, 'grow': 1, 'steadily': 1, 'contributing': 1, 'significantly': 1, 'overall': 1, 'Overall': 1, 'characterized': 1, 'vibrant': 1, 'supported': 1, 'robust': 1, 'industry': 1, 'resilient': 1, 'base': 1, '\\n ': 1}\n"
          ]
        }
      ],
      "source": [
        "word_frequencies = {}\n",
        "for word in doc:\n",
        "    if word.text.lower() not in stop:\n",
        "        if word.text.lower() not in punctuation:\n",
        "            if word.text != \"\\n\":\n",
        "                if word.text not in word_frequencies.keys():\n",
        "                    word_frequencies[word.text] = 1\n",
        "                else:\n",
        "                    word_frequencies[word.text] += 1\n",
        "\n",
        "print(word_frequencies)"
      ]
    },
    {
      "cell_type": "code",
      "execution_count": 18,
      "metadata": {
        "colab": {
          "base_uri": "https://localhost:8080/"
        },
        "id": "thfdPo2wit3t",
        "outputId": "592eeac3-9c83-4b19-c170-57747c1ada6a"
      },
      "outputs": [
        {
          "data": {
            "text/plain": [
              "4"
            ]
          },
          "execution_count": 18,
          "metadata": {},
          "output_type": "execute_result"
        }
      ],
      "source": [
        "max_frequency = max(word_frequencies.values())\n",
        "max_frequency;"
      ]
    },
    {
      "cell_type": "code",
      "execution_count": 19,
      "metadata": {
        "colab": {
          "base_uri": "https://localhost:8080/"
        },
        "id": "IoyX-ZtW0WTY",
        "outputId": "a2666c0e-009a-4ed7-da80-773cccd8c33a"
      },
      "outputs": [
        {
          "name": "stdout",
          "output_type": "stream",
          "text": [
            "{'Page': 0.25, 'N01': 0.25, '\\n \\n': 0.25, 'Tamil': 1.0, 'Nadu': 1.0, 'located': 0.25, 'southern': 0.25, 'India': 0.5, 'diverse': 0.25, 'economy': 0.75, 'mix': 0.25, 'agriculture': 0.25, 'manufacturing': 0.25, 'services': 1.0, 'sectors': 0.25, 'early': 0.5, '2000s': 0.75, 'state': 0.75, 'experienced': 0.25, 'significant': 0.25, 'growth': 0.5, 'driven': 0.25, 'industries': 0.25, 'textiles': 0.25, 'automobiles': 0.25, 'elect': 0.25, 'ronics': 0.25, 'software': 0.25, 'Chennai': 0.25, 'capital': 0.25, 'city': 0.25, 'emerged': 0.25, 'major': 0.25, 'hub': 0.25, '-enabled': 0.25, 'attracting': 0.25, 'investments': 0.25, 'domestic': 0.5, 'international': 0.25, 'firms': 0.25, ' \\n \\n': 1.0, 'agricultural': 0.5, 'sector': 0.5, 'remains': 0.25, 'important': 0.25, 'rice': 0.25, 'sugarcane': 0.25, 'cotton': 0.25, 'primary': 0.25, 'crops': 0.25, 'leader': 0.25, 'horticulture': 0.25, 'producing': 0.25, 'fruits': 0.25, 'vegetables': 0.25, 'consumption': 0.25, 'export': 0.25, 'government': 0.25, 'proactive': 0.25, 'promoting': 0.25, 'industrial': 0.75, 'development': 0.25, 'incentives': 0.25, 'policies': 0.25, 'leading': 0.25, 'establishment': 0.25, 'estates': 0.25, 'special': 0.25, 'economic': 0.5, 'zones': 0.25, 'faces': 0.25, 'challenges': 0.5, 'water': 0.25, 'scarcity': 0.25, 'infrastructure': 0.25, 'bottlenecks': 0.25, 'skill': 0.25, 'shortages': 0.25, 'Despite': 0.25, 'continued': 0.25, 'grow': 0.25, 'steadily': 0.25, 'contributing': 0.25, 'significantly': 0.25, 'overall': 0.25, 'Overall': 0.25, 'characterized': 0.25, 'vibrant': 0.25, 'supported': 0.25, 'robust': 0.25, 'industry': 0.25, 'resilient': 0.25, 'base': 0.25, '\\n ': 0.25}\n"
          ]
        }
      ],
      "source": [
        "for word in word_frequencies.keys():\n",
        "    word_frequencies[word] = word_frequencies[word]/max_frequency\n",
        "    \n",
        "print(word_frequencies)"
      ]
    },
    {
      "cell_type": "code",
      "execution_count": 20,
      "metadata": {
        "colab": {
          "base_uri": "https://localhost:8080/"
        },
        "id": "a3j9-KMX79dC",
        "outputId": "e148e510-e7d4-4bc7-fa30-cbaf4c6221a6"
      },
      "outputs": [
        {
          "data": {
            "text/plain": [
              "Page N01\n",
              " \n",
              "Tamil Nadu, located in the southern part of India, has a diverse economy with a mix of agriculture, \n",
              "manufacturing, and services sectors. In the early 2000s, the state experienced significant growth, \n",
              "driven by industries such as textiles, automobiles, elect ronics, and software services. Chennai, the \n",
              "capital city, emerged as a major hub for IT and IT -enabled services, attracting investments from both \n",
              "domestic and international firms.  \n",
              " \n",
              "The agricultural sector remains important, with rice, sugarcane, and cotton being the primary crops. \n",
              "Tamil Nadu is also a leader in horticulture, producing fruits and vegetables for domestic \n",
              "consumption and export.  \n",
              " \n",
              "The state government has been proactive in promoting industrial development through various \n",
              "incentives and policies, leading to the establishment of industrial estates and special economic \n",
              "zones.  \n",
              " \n",
              "However, Tamil Nadu faces challenges such as water scarcity, infrastructure bottlenecks, and skill \n",
              "shortages. Despite these challenges, the state's economy continued to grow steadily during the \n",
              "2000s, contributing significantly to India's overall economic growth.  \n",
              " \n",
              "Overall, Tamil Nadu's economy in the early 2000s was characterized by a vibrant industrial sector, \n",
              "supported by a robust services industry and a resilient agricultural base . \n",
              " "
            ]
          },
          "execution_count": 20,
          "metadata": {},
          "output_type": "execute_result"
        }
      ],
      "source": [
        "doc"
      ]
    },
    {
      "cell_type": "code",
      "execution_count": 44,
      "metadata": {
        "colab": {
          "base_uri": "https://localhost:8080/"
        },
        "id": "Kbga5bLR0bdg",
        "outputId": "7d90bed7-e577-432d-c693-b3210b8b0fcf"
      },
      "outputs": [
        {
          "name": "stdout",
          "output_type": "stream",
          "text": [
            "[Page N01\n",
            " \n",
            "Tamil Nadu, located in the southern part of India, has a diverse economy with a mix of agriculture, \n",
            "manufacturing, and services sectors., In the early 2000s, the state experienced significant growth, \n",
            "driven by industries such as textiles, automobiles, elect ronics, and software services., Chennai, the \n",
            "capital city, emerged as a major hub for IT and IT -enabled services, attracting investments from both \n",
            "domestic and international firms.  \n",
            " \n",
            ", The agricultural sector remains important, with rice, sugarcane, and cotton being the primary crops. \n",
            ", Tamil Nadu is also a leader in horticulture, producing fruits and vegetables for domestic \n",
            "consumption and export.  \n",
            " \n",
            ", The state government has been proactive in promoting industrial development through various \n",
            "incentives and policies, leading to the establishment of industrial estates and special economic \n",
            "zones.  \n",
            " \n",
            ", However, Tamil Nadu faces challenges such as water scarcity, infrastructure bottlenecks, and skill \n",
            "shortages., Despite these challenges, the state's economy continued to grow steadily during the \n",
            "2000s, contributing significantly to India's overall economic growth.  \n",
            " \n",
            ", Overall, Tamil Nadu's economy in the early 2000s was characterized by a vibrant industrial sector, \n",
            "supported by a robust services industry and a resilient agricultural base . \n",
            " ]\n"
          ]
        }
      ],
      "source": [
        "sentence_tokens = [sent for sent in doc.sents];\n",
        "print(sentence_tokens);"
      ]
    },
    {
      "cell_type": "code",
      "execution_count": 22,
      "metadata": {
        "colab": {
          "base_uri": "https://localhost:8080/"
        },
        "id": "9vCUMeYweESr",
        "outputId": "3aa38f81-1eac-4f19-96d5-48ee99e86b85"
      },
      "outputs": [
        {
          "data": {
            "text/plain": [
              "[Page N01\n",
              "  \n",
              " Tamil Nadu, located in the southern part of India, has a diverse economy with a mix of agriculture, \n",
              " manufacturing, and services sectors.,\n",
              " In the early 2000s, the state experienced significant growth, \n",
              " driven by industries such as textiles, automobiles, elect ronics, and software services.,\n",
              " Chennai, the \n",
              " capital city, emerged as a major hub for IT and IT -enabled services, attracting investments from both \n",
              " domestic and international firms.  \n",
              "  ,\n",
              " The agricultural sector remains important, with rice, sugarcane, and cotton being the primary crops. ,\n",
              " Tamil Nadu is also a leader in horticulture, producing fruits and vegetables for domestic \n",
              " consumption and export.  \n",
              "  ,\n",
              " The state government has been proactive in promoting industrial development through various \n",
              " incentives and policies, leading to the establishment of industrial estates and special economic \n",
              " zones.  \n",
              "  ,\n",
              " However, Tamil Nadu faces challenges such as water scarcity, infrastructure bottlenecks, and skill \n",
              " shortages.,\n",
              " Despite these challenges, the state's economy continued to grow steadily during the \n",
              " 2000s, contributing significantly to India's overall economic growth.  \n",
              "  ,\n",
              " Overall, Tamil Nadu's economy in the early 2000s was characterized by a vibrant industrial sector, \n",
              " supported by a robust services industry and a resilient agricultural base . \n",
              "  ]"
            ]
          },
          "execution_count": 22,
          "metadata": {},
          "output_type": "execute_result"
        }
      ],
      "source": [
        "sentence_tokens"
      ]
    },
    {
      "cell_type": "code",
      "execution_count": 23,
      "metadata": {
        "colab": {
          "base_uri": "https://localhost:8080/"
        },
        "id": "K6bm3RV10bba",
        "outputId": "663ce0a0-7efc-45b1-831e-f8dd386c6dfc"
      },
      "outputs": [
        {
          "data": {
            "text/plain": [
              "{Page N01\n",
              "  \n",
              " Tamil Nadu, located in the southern part of India, has a diverse economy with a mix of agriculture, \n",
              " manufacturing, and services sectors.: 3.75,\n",
              " In the early 2000s, the state experienced significant growth, \n",
              " driven by industries such as textiles, automobiles, elect ronics, and software services.: 5.75,\n",
              " Chennai, the \n",
              " capital city, emerged as a major hub for IT and IT -enabled services, attracting investments from both \n",
              " domestic and international firms.  \n",
              "  : 5.0,\n",
              " The agricultural sector remains important, with rice, sugarcane, and cotton being the primary crops. : 2.75,\n",
              " Tamil Nadu is also a leader in horticulture, producing fruits and vegetables for domestic \n",
              " consumption and export.  \n",
              "  : 3.25,\n",
              " The state government has been proactive in promoting industrial development through various \n",
              " incentives and policies, leading to the establishment of industrial estates and special economic \n",
              " zones.  \n",
              "  : 6.5,\n",
              " However, Tamil Nadu faces challenges such as water scarcity, infrastructure bottlenecks, and skill \n",
              " shortages.: 2.25,\n",
              " Despite these challenges, the state's economy continued to grow steadily during the \n",
              " 2000s, contributing significantly to India's overall economic growth.  \n",
              "  : 6.25,\n",
              " Overall, Tamil Nadu's economy in the early 2000s was characterized by a vibrant industrial sector, \n",
              " supported by a robust services industry and a resilient agricultural base . \n",
              "  : 7.0}"
            ]
          },
          "execution_count": 23,
          "metadata": {},
          "output_type": "execute_result"
        }
      ],
      "source": [
        "sentence_scores = {}\n",
        "for sent in sentence_tokens:\n",
        "    for word in sent:\n",
        "        if word.text.lower() in word_frequencies.keys():\n",
        "            if sent not in sentence_scores.keys():\n",
        "                sentence_scores[sent] = word_frequencies[word.text.lower()]\n",
        "            else:\n",
        "                sentence_scores[sent] += word_frequencies[word.text.lower()]\n",
        "sentence_scores"
      ]
    },
    {
      "cell_type": "code",
      "execution_count": 24,
      "metadata": {
        "colab": {
          "base_uri": "https://localhost:8080/"
        },
        "id": "t676s91-3Wm1",
        "outputId": "b8b8d878-0d84-4b62-8315-44d38a37e1ab"
      },
      "outputs": [
        {
          "name": "stdout",
          "output_type": "stream",
          "text": [
            "{\n",
            "Page N01\n",
            " \n",
            "Tamil Nadu, located in the southern part of India, has a diverse economy with a mix of agriculture, \n",
            "manufacturing, and services sectors.: 3.75,\n",
            "In the early 2000s, the state experienced significant growth, \n",
            "driven by industries such as textiles, automobiles, elect ronics, and software services.: 5.75,\n",
            "Chennai, the \n",
            "capital city, emerged as a major hub for IT and IT -enabled services, attracting investments from both \n",
            "domestic and international firms.  \n",
            " \n",
            ": 5.0,\n",
            "The agricultural sector remains important, with rice, sugarcane, and cotton being the primary crops. \n",
            ": 2.75,\n",
            "Tamil Nadu is also a leader in horticulture, producing fruits and vegetables for domestic \n",
            "consumption and export.  \n",
            " \n",
            ": 3.25,\n",
            "The state government has been proactive in promoting industrial development through various \n",
            "incentives and policies, leading to the establishment of industrial estates and special economic \n",
            "zones.  \n",
            " \n",
            ": 6.5,\n",
            "However, Tamil Nadu faces challenges such as water scarcity, infrastructure bottlenecks, and skill \n",
            "shortages.: 2.25,\n",
            "Despite these challenges, the state's economy continued to grow steadily during the \n",
            "2000s, contributing significantly to India's overall economic growth.  \n",
            " \n",
            ": 6.25,\n",
            "Overall, Tamil Nadu's economy in the early 2000s was characterized by a vibrant industrial sector, \n",
            "supported by a robust services industry and a resilient agricultural base . \n",
            " : 7.0,\n",
            "}\n"
          ]
        }
      ],
      "source": [
        "nested_dict = {}\n",
        "count = 0\n",
        "inner_dict = {}\n",
        "for sentence, score in sentence_scores.items():\n",
        "    if len(inner_dict) < 10:\n",
        "        inner_dict[sentence] = score\n",
        "    else:\n",
        "        nested_dict[f\"Nested_{count + 1}\"] = inner_dict\n",
        "        inner_dict = {sentence: score}\n",
        "        count += 1\n",
        "if inner_dict:\n",
        "    nested_dict[f\"Nested_{count + 1}\"] = inner_dict\n",
        "\n",
        "\n",
        "for key, value in nested_dict.items():\n",
        "    print(\"{\")\n",
        "    for sentence, score in value.items():\n",
        "        print(f\"{sentence}: {score},\")\n",
        "print(\"}\")\n"
      ]
    },
    {
      "cell_type": "code",
      "execution_count": 25,
      "metadata": {
        "colab": {
          "base_uri": "https://localhost:8080/"
        },
        "id": "LTXxGQ6y0bUA",
        "outputId": "144c11ee-2ded-4fe1-bc80-abe895d58a36"
      },
      "outputs": [
        {
          "data": {
            "text/plain": [
              "2"
            ]
          },
          "execution_count": 25,
          "metadata": {},
          "output_type": "execute_result"
        }
      ],
      "source": [
        "select_length = int(len(sentence_tokens)*0.3)\n",
        "select_length"
      ]
    },
    {
      "cell_type": "markdown",
      "metadata": {
        "id": "cEovnLgpLlVb"
      },
      "source": []
    },
    {
      "cell_type": "code",
      "execution_count": 26,
      "metadata": {
        "id": "xPgPK5o30bRo"
      },
      "outputs": [],
      "source": [
        "summary = nlargest(select_length, sentence_scores, key = sentence_scores.get)"
      ]
    },
    {
      "cell_type": "code",
      "execution_count": 27,
      "metadata": {
        "id": "_g6mOaD60ubN"
      },
      "outputs": [],
      "source": [
        "final_summary = [word.text for word in summary]\n",
        "summary = ' '.join(final_summary)\n",
        "# print(summary)"
      ]
    },
    {
      "cell_type": "code",
      "execution_count": 28,
      "metadata": {
        "colab": {
          "base_uri": "https://localhost:8080/",
          "height": 157
        },
        "id": "FR4HCtq80uYl",
        "outputId": "73708b8a-91d1-4b9e-d0e3-58fd987b7e26"
      },
      "outputs": [
        {
          "data": {
            "text/plain": [
              "\"Page N01\\n \\nTamil Nadu, located in the southern part of India, has a diverse economy with a mix of agriculture, \\nmanufacturing, and services sectors. In the early 2000s, the state experienced significant growth, \\ndriven by industries such as textiles, automobiles, elect ronics, and software services. Chennai, the \\ncapital city, emerged as a major hub for IT and IT -enabled services, attracting investments from both \\ndomestic and international firms.  \\n \\nThe agricultural sector remains important, with rice, sugarcane, and cotton being the primary crops. \\nTamil Nadu is also a leader in horticulture, producing fruits and vegetables for domestic \\nconsumption and export.  \\n \\nThe state government has been proactive in promoting industrial development through various \\nincentives and policies, leading to the establishment of industrial estates and special economic \\nzones.  \\n \\nHowever, Tamil Nadu faces challenges such as water scarcity, infrastructure bottlenecks, and skill \\nshortages. Despite these challenges, the state's economy continued to grow steadily during the \\n2000s, contributing significantly to India's overall economic growth.  \\n \\nOverall, Tamil Nadu's economy in the early 2000s was characterized by a vibrant industrial sector, \\nsupported by a robust services industry and a resilient agricultural base . \\n \""
            ]
          },
          "execution_count": 28,
          "metadata": {},
          "output_type": "execute_result"
        }
      ],
      "source": [
        "text\n"
      ]
    },
    {
      "cell_type": "code",
      "execution_count": 29,
      "metadata": {
        "colab": {
          "base_uri": "https://localhost:8080/",
          "height": 87
        },
        "id": "of4C1UlL0uVm",
        "outputId": "6318ecb6-fc1b-462f-ccdf-fbd1ce6062cc"
      },
      "outputs": [
        {
          "data": {
            "text/plain": [
              "\"Overall, Tamil Nadu's economy in the early 2000s was characterized by a vibrant industrial sector, \\nsupported by a robust services industry and a resilient agricultural base . \\n  The state government has been proactive in promoting industrial development through various \\nincentives and policies, leading to the establishment of industrial estates and special economic \\nzones.  \\n \\n\""
            ]
          },
          "execution_count": 29,
          "metadata": {},
          "output_type": "execute_result"
        }
      ],
      "source": [
        "summary"
      ]
    },
    {
      "cell_type": "code",
      "execution_count": 30,
      "metadata": {
        "colab": {
          "base_uri": "https://localhost:8080/"
        },
        "id": "FjeqZ2p8rFiW",
        "outputId": "90a7c2e7-5ebd-42ad-a0e9-5ff3109eff3f"
      },
      "outputs": [
        {
          "name": "stdout",
          "output_type": "stream",
          "text": [
            "[\"Overall, Tamil Nadu's economy in the early 2000s was characterized by a vibrant industrial sector, \\nsupported by a robust services industry and a resilient agricultural base .\", 'The state government has been proactive in promoting industrial development through various \\nincentives and policies, leading to the establishment of industrial estates and special economic \\nzones.']\n"
          ]
        }
      ],
      "source": [
        "sentences = nltk.sent_tokenize(summary)\n",
        "print(sentences)"
      ]
    },
    {
      "cell_type": "code",
      "execution_count": 31,
      "metadata": {
        "id": "QbdIlm7_7q-o"
      },
      "outputs": [],
      "source": [
        "summary_doc=nlp(summary)"
      ]
    },
    {
      "cell_type": "code",
      "execution_count": 32,
      "metadata": {
        "colab": {
          "base_uri": "https://localhost:8080/"
        },
        "id": "7jwJiWrA7Lmh",
        "outputId": "36713f70-f8be-4479-ab27-784b38aa2402"
      },
      "outputs": [
        {
          "name": "stdout",
          "output_type": "stream",
          "text": [
            "['Page N01\\n \\nTamil Nadu', 'the southern part', 'India', 'a diverse economy', 'a mix', 'agriculture', 'manufacturing', 'services sectors', 'the state', 'significant growth', 'industries', 'textiles', 'automobiles', 'elect ronics', 'software services', 'Chennai', 'the \\ncapital city', 'a major hub', '-enabled services', 'investments', 'both \\ndomestic and international firms', 'The agricultural sector', 'rice', 'sugarcane', 'cotton', 'the primary crops', 'Tamil Nadu', 'a leader', 'horticulture', 'fruits', 'vegetables', 'domestic \\nconsumption', 'export', 'The state government', 'industrial development', 'various \\nincentives', 'policies', 'the establishment', 'industrial estates', 'special economic \\nzones', 'Tamil Nadu', 'challenges', 'water scarcity', 'infrastructure bottlenecks', 'skill \\nshortages', 'these challenges', \"the state's economy\", \"India's overall economic growth\", \"Tamil Nadu's economy\", 'the early 2000s', 'a vibrant industrial sector', 'a robust services industry', 'a resilient agricultural base']\n"
          ]
        }
      ],
      "source": [
        "keys =[]\n",
        "for word in doc.noun_chunks:\n",
        "  if word.text.lower() not in stop:\n",
        "    keys.append(word.text)\n",
        "print(keys)"
      ]
    },
    {
      "cell_type": "code",
      "execution_count": 33,
      "metadata": {
        "colab": {
          "base_uri": "https://localhost:8080/"
        },
        "id": "F5T_DLY47q78",
        "outputId": "efc569f2-8eea-4aeb-ec58-adff6ee5dbd8"
      },
      "outputs": [
        {
          "name": "stdout",
          "output_type": "stream",
          "text": [
            "[\"Tamil Nadu's economy\", 'the early 2000s', 'a vibrant industrial sector', 'a robust services industry', 'a resilient agricultural base', 'The state government', 'industrial development', 'various \\nincentives', 'policies', 'the establishment', 'industrial estates', 'special economic \\nzones']\n"
          ]
        }
      ],
      "source": [
        "keywords= []\n",
        "for word in summary_doc.noun_chunks:\n",
        "  if word.text.lower() not in stop:\n",
        "    keywords.append(word.text)\n",
        "print(keywords)"
      ]
    },
    {
      "cell_type": "code",
      "execution_count": 34,
      "metadata": {
        "colab": {
          "base_uri": "https://localhost:8080/"
        },
        "id": "QMRSLD46I_wD",
        "outputId": "71d5ca16-fc70-4075-e1a4-2a77535dc506"
      },
      "outputs": [
        {
          "name": "stdout",
          "output_type": "stream",
          "text": [
            "['industrial estates', 'a resilient agricultural base', 'a vibrant industrial sector', 'policies', 'special economic \\nzones', 'industrial development', 'a robust services industry', 'the early 2000s', 'the establishment', 'The state government', 'various \\nincentives', \"Tamil Nadu's economy\"]\n"
          ]
        }
      ],
      "source": [
        "key ={}\n",
        "k1=set(keys)\n",
        "k2=set(keywords)\n",
        "key=k1&k2\n",
        "key=list(key)\n",
        "print(key)"
      ]
    },
    {
      "cell_type": "code",
      "execution_count": 35,
      "metadata": {
        "colab": {
          "base_uri": "https://localhost:8080/",
          "height": 353,
          "referenced_widgets": [
            "cb3e6eba944e4ac6b9ebe2ae29c8ea25",
            "2cfca0b634af49aa8b752698c1d354a7",
            "fecfdda3d772479ca7e0c995d352a61c",
            "1f0d6e9ed8bd414e8983b5b728dad2e0",
            "a2ae62c267eb4a3f863f51b0253797e0",
            "8d8456b438eb4770b7c170301461e8fe",
            "116562761e5f4e94bb97c69809ad9ed2",
            "670119cafa284b4aa328ed0e7630c24a",
            "05cabfd805734f8e97c5d72bc5e85ca9",
            "c16b586d96ad444fa039303f982df177",
            "ab6693f0012a4118882cbe67815f6b5c",
            "c06cf48573d84a3d8c8291762f438ede",
            "ff45576af22c4c2492729127b181aece",
            "f3a300533b534296a43d68b2e9209466",
            "829bb3121f9646688ed8f7acc0191b3e",
            "6b87889292bf43a1a60617d254d2ce21",
            "bdf8665d638442b2b6fe1ae8fc679a17",
            "8da4c30aa25f44bf8b63e055cf5f4fd5",
            "a98b84541915429a9889a6e5118be2ad",
            "8cad9232f2c244ea880e52eb951b3965",
            "075552c6a6b04efeb58d1f2dbde72c36",
            "1bb2b27efa5242c29920af5821eefd3b",
            "93351c08333b4512b14b7b8797a8f98d",
            "03f819ab791e474f8dcf6fa5dbcbe644",
            "36110cc11ca04ce8b18218c98bdf9e42",
            "d2c16e4ce4ce4b35a513901aeb378380",
            "865c3da581054a0fb8b8a86923a135ea",
            "3ac77c00c228441a9cbc5737800dcc21",
            "fa9e991a27cd45e4bd776bf710c08c5a",
            "1427e411e50a4aa3ac5c939a837cd1fb",
            "2a15689eda514b73a8d2792ca78d616a",
            "4f596767ea0449e5bca586e56d31fe71",
            "21b8a0d7384c4f49ac1c9ec42a4f4a5b",
            "12d0f7fefe054cd79a95476488e02eb6",
            "6780aa0ba0564e67ab692e987f71488d",
            "7b2afa0664ac490f967a25c20acb3507",
            "aa948980212b468d99686293bb123e5f",
            "43011fd73a1d4b2ebacfb0f2517a8f7b",
            "a95ebce7fbfb402d99330e154e5987ad",
            "df1f047a78e74087a30f8fac612ab65c",
            "def5befd003442679f8cadeaaf59134d",
            "e29ddf07f4f245e49b92c1d57a396ee1",
            "37d85fddbf1c44af8c8dfb02a18b5036",
            "4f43396bf37d4b82934e3515caab14cb",
            "b7cf5507d5e542c6b29a3eb2c506682b",
            "4055c9e15f614ac9a18397ef9cce6483",
            "010cc7db9c02456282fbed8242cf0807",
            "6bee71dc345e44e4a8e4cd679759d10f",
            "facee4c45cd74482b5e7e8c7816e7ae1",
            "e9b04333459648008b5fa08d64cfcc74",
            "6f32de4beba54c578f07920add781c72",
            "82903c33ae334eb9916b1caaeafaa7fa",
            "792f3007924f4847ab1180d237d61d92",
            "18f1baa564de4b98911d454fffe75e97",
            "b176172fc7f04775a0911dbb581e8eb7"
          ]
        },
        "id": "Q48vnvhsfvjk",
        "outputId": "c158dfe0-b659-430a-934e-93ca8a408b17"
      },
      "outputs": [
        {
          "name": "stderr",
          "output_type": "stream",
          "text": [
            "You are using the default legacy behaviour of the <class 'transformers.models.t5.tokenization_t5.T5Tokenizer'>. This is expected, and simply means that the `legacy` (previous) behavior will be used so nothing changes for you. If you want to use the new behaviour, set `legacy=False`. This should only be set if you understand what it means, and thouroughly read the reason why this was added as explained in https://github.com/huggingface/transformers/pull/24565\n"
          ]
        }
      ],
      "source": [
        "question_model = T5ForConditionalGeneration.from_pretrained('ramsrigouthamg/t5_squad_v1')\n",
        "question_tokenizer = T5Tokenizer.from_pretrained('ramsrigouthamg/t5_squad_v1')\n",
        "device = 'cuda' if torch.cuda.is_available() else 'cpu'\n",
        "question_model = question_model.to(device)\n"
      ]
    },
    {
      "cell_type": "code",
      "execution_count": 36,
      "metadata": {
        "colab": {
          "base_uri": "https://localhost:8080/"
        },
        "id": "I_NQm-zfB2gO",
        "outputId": "e2e0da0b-e975-4158-e8cd-ae1fb14fc09d"
      },
      "outputs": [
        {
          "name": "stdout",
          "output_type": "stream",
          "text": [
            "['industrial estates', 'a resilient agricultural base', 'a vibrant industrial sector', 'policies', 'special economic \\nzones', 'industrial development', 'a robust services industry', 'the early 2000s', 'the establishment', 'The state government', 'various \\nincentives', \"Tamil Nadu's economy\"]\n"
          ]
        }
      ],
      "source": [
        "print(key)"
      ]
    },
    {
      "cell_type": "code",
      "execution_count": 37,
      "metadata": {
        "colab": {
          "base_uri": "https://localhost:8080/"
        },
        "id": "RKJa2uKZgsQA",
        "outputId": "6be22039-c2f1-4a58-d9ab-4f956dde2ece"
      },
      "outputs": [
        {
          "name": "stdout",
          "output_type": "stream",
          "text": [
            "What type of estates has Tamil Nadu established?\n",
            "Industrial estates\n",
            "\n",
            "\n",
            "What type of base supported Tamil Nadu's economy in the early 2000s?\n",
            "A resilient agricultural base\n",
            "\n",
            "\n",
            "What was Tamil Nadu's economy characterized by in the early 2000s?\n",
            "A vibrant industrial sector\n",
            "\n",
            "\n",
            "What has the Tamil Nadu government been proactive in promoting industrial development?\n",
            "Policies\n",
            "\n",
            "\n",
            "Along with industrial estates, what type of economic zones did Tamil Nadu establish?\n",
            "Special economic \n",
            "zones\n",
            "\n",
            "\n",
            "What has the state government been proactive in promoting?\n",
            "Industrial development\n",
            "\n",
            "\n",
            "What type of industry supported Tamil Nadu's economy in the early 2000s?\n",
            "A robust services industry\n",
            "\n",
            "\n",
            "When was Tamil Nadu's economy characterized by a vibrant industrial sector?\n",
            "The early 2000s\n",
            "\n",
            "\n",
            "What has the state government been proactive in promoting industrial development?\n",
            "The establishment\n",
            "\n",
            "\n",
            "Who has been proactive in promoting industrial development?\n",
            "The state government\n",
            "\n",
            "\n",
            "What has the state government been proactive in promoting industrial development through?\n",
            "Various \n",
            "incentives\n",
            "\n",
            "\n",
            "What was characterized by a vibrant industrial sector in the early 2000s?\n",
            "Tamil nadu's economy\n",
            "\n",
            "\n"
          ]
        }
      ],
      "source": [
        "que_pair = []\n",
        "\n",
        "def get_question(context, main_answer, model, tokenizer, key_list):\n",
        "    global que_pair\n",
        "    text = \"context: {} answer: {}\".format(context, main_answer)\n",
        "    encoding = tokenizer.encode_plus(text, max_length=384, pad_to_max_length=False, truncation=True, return_tensors=\"pt\").to(device)\n",
        "    input_ids, attention_mask = encoding[\"input_ids\"], encoding[\"attention_mask\"]\n",
        "    outs = model.generate(input_ids=input_ids,\n",
        "                            attention_mask=attention_mask,\n",
        "                            early_stopping=True,\n",
        "                            num_beams=5,\n",
        "                            num_return_sequences=1,\n",
        "                            no_repeat_ngram_size=2,\n",
        "                            max_length=72)\n",
        "\n",
        "    dec = [tokenizer.decode(ids, skip_special_tokens=True) for ids in outs]\n",
        "    Question = dec[0].replace(\"question:\", \"\")\n",
        "    Question = Question.strip()\n",
        "    related_answers = get_related_answers(main_answer, key_list)[:3]  # Get only 3 related answers\n",
        "    que_pair.append((Question, main_answer.capitalize(), related_answers))\n",
        "\n",
        "    return Question\n",
        "\n",
        "def get_related_answers(main_answer, key_list):\n",
        "    related_answers = [answer for answer in key_list if answer.lower() != main_answer.lower()]\n",
        "    return related_answers\n",
        "for main_answer in key:\n",
        "    ques = get_question(summary, main_answer, question_model, question_tokenizer, key)\n",
        "    print(ques)\n",
        "    print(main_answer.capitalize())\n",
        "    print(\"\\n\")\n"
      ]
    },
    {
      "cell_type": "code",
      "execution_count": 38,
      "metadata": {
        "id": "b6EHhN5DOwta"
      },
      "outputs": [
        {
          "data": {
            "text/plain": [
              "{Page N01\n",
              "  \n",
              " Tamil Nadu, located in the southern part of India, has a diverse economy with a mix of agriculture, \n",
              " manufacturing, and services sectors.: 3.75,\n",
              " In the early 2000s, the state experienced significant growth, \n",
              " driven by industries such as textiles, automobiles, elect ronics, and software services.: 5.75,\n",
              " Chennai, the \n",
              " capital city, emerged as a major hub for IT and IT -enabled services, attracting investments from both \n",
              " domestic and international firms.  \n",
              "  : 5.0,\n",
              " The agricultural sector remains important, with rice, sugarcane, and cotton being the primary crops. : 2.75,\n",
              " Tamil Nadu is also a leader in horticulture, producing fruits and vegetables for domestic \n",
              " consumption and export.  \n",
              "  : 3.25,\n",
              " The state government has been proactive in promoting industrial development through various \n",
              " incentives and policies, leading to the establishment of industrial estates and special economic \n",
              " zones.  \n",
              "  : 6.5,\n",
              " However, Tamil Nadu faces challenges such as water scarcity, infrastructure bottlenecks, and skill \n",
              " shortages.: 2.25,\n",
              " Despite these challenges, the state's economy continued to grow steadily during the \n",
              " 2000s, contributing significantly to India's overall economic growth.  \n",
              "  : 6.25,\n",
              " Overall, Tamil Nadu's economy in the early 2000s was characterized by a vibrant industrial sector, \n",
              " supported by a robust services industry and a resilient agricultural base . \n",
              "  : 7.0}"
            ]
          },
          "execution_count": 38,
          "metadata": {},
          "output_type": "execute_result"
        }
      ],
      "source": [
        "sentence_scores"
      ]
    },
    {
      "cell_type": "code",
      "execution_count": null,
      "metadata": {
        "id": "4VsBl6I2OwnF"
      },
      "outputs": [],
      "source": []
    },
    {
      "cell_type": "code",
      "execution_count": null,
      "metadata": {
        "id": "wQQwSve0Owkd"
      },
      "outputs": [],
      "source": []
    },
    {
      "cell_type": "code",
      "execution_count": null,
      "metadata": {
        "id": "TjUBLNkPOwf3"
      },
      "outputs": [],
      "source": []
    },
    {
      "cell_type": "code",
      "execution_count": 39,
      "metadata": {
        "colab": {
          "base_uri": "https://localhost:8080/"
        },
        "id": "VQ9nJRL6fiGb",
        "outputId": "fe291a5d-1c7c-48d2-bf0a-14b306eb1f20"
      },
      "outputs": [
        {
          "name": "stdout",
          "output_type": "stream",
          "text": [
            "What type of estates has Tamil Nadu established?\n",
            "Industrial estates\n",
            "['a resilient agricultural base', 'a vibrant industrial sector', 'policies', 'special economic \\nzones', 'industrial development', 'a robust services industry', 'the early 2000s', 'the establishment', 'The state government', 'various \\nincentives', \"Tamil Nadu's economy\"]\n",
            "\n",
            "\n",
            "What type of base supported Tamil Nadu's economy in the early 2000s?\n",
            "A resilient agricultural base\n",
            "['industrial estates', 'a vibrant industrial sector', 'policies', 'special economic \\nzones', 'industrial development', 'a robust services industry', 'the early 2000s', 'the establishment', 'The state government', 'various \\nincentives', \"Tamil Nadu's economy\"]\n",
            "\n",
            "\n",
            "What was Tamil Nadu's economy characterized by in the early 2000s?\n",
            "A vibrant industrial sector\n",
            "['industrial estates', 'a resilient agricultural base', 'policies', 'special economic \\nzones', 'industrial development', 'a robust services industry', 'the early 2000s', 'the establishment', 'The state government', 'various \\nincentives', \"Tamil Nadu's economy\"]\n",
            "\n",
            "\n",
            "What has the Tamil Nadu government been proactive in promoting industrial development?\n",
            "Policies\n",
            "['industrial estates', 'a resilient agricultural base', 'a vibrant industrial sector', 'special economic \\nzones', 'industrial development', 'a robust services industry', 'the early 2000s', 'the establishment', 'The state government', 'various \\nincentives', \"Tamil Nadu's economy\"]\n",
            "\n",
            "\n",
            "Along with industrial estates, what type of economic zones did Tamil Nadu establish?\n",
            "Special economic \n",
            "zones\n",
            "['industrial estates', 'a resilient agricultural base', 'a vibrant industrial sector', 'policies', 'industrial development', 'a robust services industry', 'the early 2000s', 'the establishment', 'The state government', 'various \\nincentives', \"Tamil Nadu's economy\"]\n",
            "\n",
            "\n",
            "What has the state government been proactive in promoting?\n",
            "Industrial development\n",
            "['industrial estates', 'a resilient agricultural base', 'a vibrant industrial sector', 'policies', 'special economic \\nzones', 'a robust services industry', 'the early 2000s', 'the establishment', 'The state government', 'various \\nincentives', \"Tamil Nadu's economy\"]\n",
            "\n",
            "\n",
            "What type of industry supported Tamil Nadu's economy in the early 2000s?\n",
            "A robust services industry\n",
            "['industrial estates', 'a resilient agricultural base', 'a vibrant industrial sector', 'policies', 'special economic \\nzones', 'industrial development', 'the early 2000s', 'the establishment', 'The state government', 'various \\nincentives', \"Tamil Nadu's economy\"]\n",
            "\n",
            "\n",
            "When was Tamil Nadu's economy characterized by a vibrant industrial sector?\n",
            "The early 2000s\n",
            "['industrial estates', 'a resilient agricultural base', 'a vibrant industrial sector', 'policies', 'special economic \\nzones', 'industrial development', 'a robust services industry', 'the establishment', 'The state government', 'various \\nincentives', \"Tamil Nadu's economy\"]\n",
            "\n",
            "\n",
            "What has the state government been proactive in promoting industrial development?\n",
            "The establishment\n",
            "['industrial estates', 'a resilient agricultural base', 'a vibrant industrial sector', 'policies', 'special economic \\nzones', 'industrial development', 'a robust services industry', 'the early 2000s', 'The state government', 'various \\nincentives', \"Tamil Nadu's economy\"]\n",
            "\n",
            "\n",
            "Who has been proactive in promoting industrial development?\n",
            "The state government\n",
            "['industrial estates', 'a resilient agricultural base', 'a vibrant industrial sector', 'policies', 'special economic \\nzones', 'industrial development', 'a robust services industry', 'the early 2000s', 'the establishment', 'various \\nincentives', \"Tamil Nadu's economy\"]\n",
            "\n",
            "\n",
            "What has the state government been proactive in promoting industrial development through?\n",
            "Various \n",
            "incentives\n",
            "['industrial estates', 'a resilient agricultural base', 'a vibrant industrial sector', 'policies', 'special economic \\nzones', 'industrial development', 'a robust services industry', 'the early 2000s', 'the establishment', 'The state government', \"Tamil Nadu's economy\"]\n",
            "\n",
            "\n",
            "What was characterized by a vibrant industrial sector in the early 2000s?\n",
            "Tamil nadu's economy\n",
            "['industrial estates', 'a resilient agricultural base', 'a vibrant industrial sector', 'policies', 'special economic \\nzones', 'industrial development', 'a robust services industry', 'the early 2000s', 'the establishment', 'The state government', 'various \\nincentives']\n",
            "\n",
            "\n"
          ]
        }
      ],
      "source": [
        "que_pair = []\n",
        "\n",
        "def get_question(context, answer, related_answers, model, tokenizer):\n",
        "    global que_pair\n",
        "\n",
        "    text = \"context: {} answer: {}\".format(context, answer)\n",
        "    encoding = tokenizer.encode_plus(text, max_length=384, pad_to_max_length=False, truncation=True, return_tensors=\"pt\").to(device)\n",
        "    input_ids, attention_mask = encoding[\"input_ids\"], encoding[\"attention_mask\"]\n",
        "    \n",
        "    outs = model.generate(input_ids=input_ids,\n",
        "                            attention_mask=attention_mask,\n",
        "                            early_stopping=True,\n",
        "                            num_beams=5,\n",
        "                            num_return_sequences=1,\n",
        "                            no_repeat_ngram_size=2,\n",
        "                            max_length=72 )\n",
        "    dec = [tokenizer.decode(ids, skip_special_tokens=True) for ids in outs]\n",
        "    Question = dec[0].replace(\"question:\", \"\")\n",
        "    Question = Question.strip()\n",
        "\n",
        "    # Append the main answer and related answers to que_pair\n",
        "    que_pair.append((Question, answer.capitalize(), related_answers))\n",
        "\n",
        "    return Question\n",
        "\n",
        "for answer in key:\n",
        "    related_answers = [ans for ans in key if ans != answer]\n",
        "    ques = get_question(summary, answer, related_answers, question_model, question_tokenizer);\n",
        "    print(ques)\n",
        "    print(answer.capitalize())\n",
        "    print(related_answers)\n",
        "    print(\"\\n\")\n"
      ]
    },
    {
      "cell_type": "code",
      "execution_count": 46,
      "metadata": {
        "colab": {
          "base_uri": "https://localhost:8080/"
        },
        "id": "tbPuI6VZfvgj",
        "outputId": "fa2ea3f2-0a2d-42e2-e44d-d78806c74106"
      },
      "outputs": [
        {
          "name": "stdout",
          "output_type": "stream",
          "text": [
            "What type of estates has Tamil Nadu established?\n",
            "Industrial estates\n",
            "\n",
            "\n",
            "What type of base supported Tamil Nadu's economy in the early 2000s?\n",
            "A resilient agricultural base\n",
            "\n",
            "\n",
            "What was Tamil Nadu's economy characterized by in the early 2000s?\n",
            "A vibrant industrial sector\n",
            "\n",
            "\n",
            "What has the Tamil Nadu government been proactive in promoting industrial development?\n",
            "Policies\n",
            "\n",
            "\n",
            "Along with industrial estates, what type of economic zones did Tamil Nadu establish?\n",
            "Special economic \n",
            "zones\n",
            "\n",
            "\n",
            "What has the state government been proactive in promoting?\n",
            "Industrial development\n",
            "\n",
            "\n",
            "What type of industry supported Tamil Nadu's economy in the early 2000s?\n",
            "A robust services industry\n",
            "\n",
            "\n",
            "When was Tamil Nadu's economy characterized by a vibrant industrial sector?\n",
            "The early 2000s\n",
            "\n",
            "\n",
            "What has the state government been proactive in promoting industrial development?\n",
            "The establishment\n",
            "\n",
            "\n",
            "Who has been proactive in promoting industrial development?\n",
            "The state government\n",
            "\n",
            "\n",
            "What has the state government been proactive in promoting industrial development through?\n",
            "Various \n",
            "incentives\n",
            "\n",
            "\n",
            "What was characterized by a vibrant industrial sector in the early 2000s?\n",
            "Tamil nadu's economy\n",
            "\n",
            "\n"
          ]
        }
      ],
      "source": [
        "import os;\n",
        "\n",
        "current_directory = os.getcwd();\n",
        "parent_dir = os.path.dirname(current_directory);\n",
        "file_path = os.path.join(parent_dir, 'Data',  \"Questions.txt\");\n",
        "\n",
        "\n",
        "que_pair =[]\n",
        "def get_question(context,answer,model,tokenizer):\n",
        "  text = \"context: {} answer: {}\".format(context,answer)\n",
        "  encoding = tokenizer.encode_plus(text,max_length=384, pad_to_max_length=False,truncation=True, return_tensors=\"pt\").to(device)\n",
        "  input_ids, attention_mask = encoding[\"input_ids\"], encoding[\"attention_mask\"]\n",
        "  \n",
        "  outs = model.generate(input_ids=input_ids,\n",
        "                                  attention_mask=attention_mask,\n",
        "                                  early_stopping=True,\n",
        "                                  num_beams=5,\n",
        "                                  num_return_sequences=1,\n",
        "                                  no_repeat_ngram_size=2,\n",
        "                                  max_length=72)\n",
        "\n",
        "\n",
        "  dec = [tokenizer.decode(ids,skip_special_tokens=True) for ids in outs]\n",
        "  Question = dec[0].replace(\"question:\",\"\")\n",
        "  que_pair.append((ques,answer.capitalize()))\n",
        "  Question= Question.strip()\n",
        "  return Question\n",
        "for answer in key:\n",
        "  ques = get_question(summary,answer,question_model,question_tokenizer)\n",
        "  print (ques)\n",
        "  print (answer.capitalize())\n",
        "  with open(file_path, \"a\") as text_file:\n",
        "    text_file.write(ques + \"\\n Answer :\"+answer.capitalize() +\"\\n\") \n",
        "    text_file.close()\n",
        "  print (\"\\n\")\n",
        "\n"
      ]
    },
    {
      "cell_type": "code",
      "execution_count": 41,
      "metadata": {
        "colab": {
          "base_uri": "https://localhost:8080/"
        },
        "id": "Myhs8ZoXfvcj",
        "outputId": "49084302-c9ed-40bc-c6b4-4d00b3b24a00"
      },
      "outputs": [
        {
          "data": {
            "text/plain": [
              "[('What was characterized by a vibrant industrial sector in the early 2000s?',\n",
              "  'Industrial estates'),\n",
              " ('What type of estates has Tamil Nadu established?',\n",
              "  'A resilient agricultural base'),\n",
              " (\"What type of base supported Tamil Nadu's economy in the early 2000s?\",\n",
              "  'A vibrant industrial sector'),\n",
              " (\"What was Tamil Nadu's economy characterized by in the early 2000s?\",\n",
              "  'Policies'),\n",
              " ('What has the Tamil Nadu government been proactive in promoting industrial development?',\n",
              "  'Special economic \\nzones'),\n",
              " ('Along with industrial estates, what type of economic zones did Tamil Nadu establish?',\n",
              "  'Industrial development'),\n",
              " ('What has the state government been proactive in promoting?',\n",
              "  'A robust services industry'),\n",
              " (\"What type of industry supported Tamil Nadu's economy in the early 2000s?\",\n",
              "  'The early 2000s'),\n",
              " (\"When was Tamil Nadu's economy characterized by a vibrant industrial sector?\",\n",
              "  'The establishment'),\n",
              " ('What has the state government been proactive in promoting industrial development?',\n",
              "  'The state government'),\n",
              " ('Who has been proactive in promoting industrial development?',\n",
              "  'Various \\nincentives'),\n",
              " ('What has the state government been proactive in promoting industrial development through?',\n",
              "  \"Tamil nadu's economy\")]"
            ]
          },
          "execution_count": 41,
          "metadata": {},
          "output_type": "execute_result"
        }
      ],
      "source": [
        "que_pair"
      ]
    },
    {
      "cell_type": "code",
      "execution_count": null,
      "metadata": {
        "id": "sDQ_6SonfvZr"
      },
      "outputs": [],
      "source": []
    }
  ],
  "metadata": {
    "colab": {
      "provenance": [],
      "toc_visible": true
    },
    "kernelspec": {
      "display_name": "Python 3",
      "name": "python3"
    },
    "language_info": {
      "codemirror_mode": {
        "name": "ipython",
        "version": 3
      },
      "file_extension": ".py",
      "mimetype": "text/x-python",
      "name": "python",
      "nbconvert_exporter": "python",
      "pygments_lexer": "ipython3",
      "version": "3.11.7"
    },
    "widgets": {
      "application/vnd.jupyter.widget-state+json": {
        "010cc7db9c02456282fbed8242cf0807": {
          "model_module": "@jupyter-widgets/controls",
          "model_module_version": "1.5.0",
          "model_name": "FloatProgressModel",
          "state": {
            "_dom_classes": [],
            "_model_module": "@jupyter-widgets/controls",
            "_model_module_version": "1.5.0",
            "_model_name": "FloatProgressModel",
            "_view_count": null,
            "_view_module": "@jupyter-widgets/controls",
            "_view_module_version": "1.5.0",
            "_view_name": "ProgressView",
            "bar_style": "success",
            "description": "",
            "description_tooltip": null,
            "layout": "IPY_MODEL_82903c33ae334eb9916b1caaeafaa7fa",
            "max": 1786,
            "min": 0,
            "orientation": "horizontal",
            "style": "IPY_MODEL_792f3007924f4847ab1180d237d61d92",
            "value": 1786
          }
        },
        "03f819ab791e474f8dcf6fa5dbcbe644": {
          "model_module": "@jupyter-widgets/controls",
          "model_module_version": "1.5.0",
          "model_name": "HTMLModel",
          "state": {
            "_dom_classes": [],
            "_model_module": "@jupyter-widgets/controls",
            "_model_module_version": "1.5.0",
            "_model_name": "HTMLModel",
            "_view_count": null,
            "_view_module": "@jupyter-widgets/controls",
            "_view_module_version": "1.5.0",
            "_view_name": "HTMLView",
            "description": "",
            "description_tooltip": null,
            "layout": "IPY_MODEL_3ac77c00c228441a9cbc5737800dcc21",
            "placeholder": "​",
            "style": "IPY_MODEL_fa9e991a27cd45e4bd776bf710c08c5a",
            "value": "tokenizer_config.json: 100%"
          }
        },
        "05cabfd805734f8e97c5d72bc5e85ca9": {
          "model_module": "@jupyter-widgets/controls",
          "model_module_version": "1.5.0",
          "model_name": "ProgressStyleModel",
          "state": {
            "_model_module": "@jupyter-widgets/controls",
            "_model_module_version": "1.5.0",
            "_model_name": "ProgressStyleModel",
            "_view_count": null,
            "_view_module": "@jupyter-widgets/base",
            "_view_module_version": "1.2.0",
            "_view_name": "StyleView",
            "bar_color": null,
            "description_width": ""
          }
        },
        "075552c6a6b04efeb58d1f2dbde72c36": {
          "model_module": "@jupyter-widgets/base",
          "model_module_version": "1.2.0",
          "model_name": "LayoutModel",
          "state": {
            "_model_module": "@jupyter-widgets/base",
            "_model_module_version": "1.2.0",
            "_model_name": "LayoutModel",
            "_view_count": null,
            "_view_module": "@jupyter-widgets/base",
            "_view_module_version": "1.2.0",
            "_view_name": "LayoutView",
            "align_content": null,
            "align_items": null,
            "align_self": null,
            "border": null,
            "bottom": null,
            "display": null,
            "flex": null,
            "flex_flow": null,
            "grid_area": null,
            "grid_auto_columns": null,
            "grid_auto_flow": null,
            "grid_auto_rows": null,
            "grid_column": null,
            "grid_gap": null,
            "grid_row": null,
            "grid_template_areas": null,
            "grid_template_columns": null,
            "grid_template_rows": null,
            "height": null,
            "justify_content": null,
            "justify_items": null,
            "left": null,
            "margin": null,
            "max_height": null,
            "max_width": null,
            "min_height": null,
            "min_width": null,
            "object_fit": null,
            "object_position": null,
            "order": null,
            "overflow": null,
            "overflow_x": null,
            "overflow_y": null,
            "padding": null,
            "right": null,
            "top": null,
            "visibility": null,
            "width": null
          }
        },
        "116562761e5f4e94bb97c69809ad9ed2": {
          "model_module": "@jupyter-widgets/controls",
          "model_module_version": "1.5.0",
          "model_name": "DescriptionStyleModel",
          "state": {
            "_model_module": "@jupyter-widgets/controls",
            "_model_module_version": "1.5.0",
            "_model_name": "DescriptionStyleModel",
            "_view_count": null,
            "_view_module": "@jupyter-widgets/base",
            "_view_module_version": "1.2.0",
            "_view_name": "StyleView",
            "description_width": ""
          }
        },
        "12d0f7fefe054cd79a95476488e02eb6": {
          "model_module": "@jupyter-widgets/controls",
          "model_module_version": "1.5.0",
          "model_name": "HBoxModel",
          "state": {
            "_dom_classes": [],
            "_model_module": "@jupyter-widgets/controls",
            "_model_module_version": "1.5.0",
            "_model_name": "HBoxModel",
            "_view_count": null,
            "_view_module": "@jupyter-widgets/controls",
            "_view_module_version": "1.5.0",
            "_view_name": "HBoxView",
            "box_style": "",
            "children": [
              "IPY_MODEL_6780aa0ba0564e67ab692e987f71488d",
              "IPY_MODEL_7b2afa0664ac490f967a25c20acb3507",
              "IPY_MODEL_aa948980212b468d99686293bb123e5f"
            ],
            "layout": "IPY_MODEL_43011fd73a1d4b2ebacfb0f2517a8f7b"
          }
        },
        "1427e411e50a4aa3ac5c939a837cd1fb": {
          "model_module": "@jupyter-widgets/base",
          "model_module_version": "1.2.0",
          "model_name": "LayoutModel",
          "state": {
            "_model_module": "@jupyter-widgets/base",
            "_model_module_version": "1.2.0",
            "_model_name": "LayoutModel",
            "_view_count": null,
            "_view_module": "@jupyter-widgets/base",
            "_view_module_version": "1.2.0",
            "_view_name": "LayoutView",
            "align_content": null,
            "align_items": null,
            "align_self": null,
            "border": null,
            "bottom": null,
            "display": null,
            "flex": null,
            "flex_flow": null,
            "grid_area": null,
            "grid_auto_columns": null,
            "grid_auto_flow": null,
            "grid_auto_rows": null,
            "grid_column": null,
            "grid_gap": null,
            "grid_row": null,
            "grid_template_areas": null,
            "grid_template_columns": null,
            "grid_template_rows": null,
            "height": null,
            "justify_content": null,
            "justify_items": null,
            "left": null,
            "margin": null,
            "max_height": null,
            "max_width": null,
            "min_height": null,
            "min_width": null,
            "object_fit": null,
            "object_position": null,
            "order": null,
            "overflow": null,
            "overflow_x": null,
            "overflow_y": null,
            "padding": null,
            "right": null,
            "top": null,
            "visibility": null,
            "width": null
          }
        },
        "18f1baa564de4b98911d454fffe75e97": {
          "model_module": "@jupyter-widgets/base",
          "model_module_version": "1.2.0",
          "model_name": "LayoutModel",
          "state": {
            "_model_module": "@jupyter-widgets/base",
            "_model_module_version": "1.2.0",
            "_model_name": "LayoutModel",
            "_view_count": null,
            "_view_module": "@jupyter-widgets/base",
            "_view_module_version": "1.2.0",
            "_view_name": "LayoutView",
            "align_content": null,
            "align_items": null,
            "align_self": null,
            "border": null,
            "bottom": null,
            "display": null,
            "flex": null,
            "flex_flow": null,
            "grid_area": null,
            "grid_auto_columns": null,
            "grid_auto_flow": null,
            "grid_auto_rows": null,
            "grid_column": null,
            "grid_gap": null,
            "grid_row": null,
            "grid_template_areas": null,
            "grid_template_columns": null,
            "grid_template_rows": null,
            "height": null,
            "justify_content": null,
            "justify_items": null,
            "left": null,
            "margin": null,
            "max_height": null,
            "max_width": null,
            "min_height": null,
            "min_width": null,
            "object_fit": null,
            "object_position": null,
            "order": null,
            "overflow": null,
            "overflow_x": null,
            "overflow_y": null,
            "padding": null,
            "right": null,
            "top": null,
            "visibility": null,
            "width": null
          }
        },
        "1bb2b27efa5242c29920af5821eefd3b": {
          "model_module": "@jupyter-widgets/controls",
          "model_module_version": "1.5.0",
          "model_name": "DescriptionStyleModel",
          "state": {
            "_model_module": "@jupyter-widgets/controls",
            "_model_module_version": "1.5.0",
            "_model_name": "DescriptionStyleModel",
            "_view_count": null,
            "_view_module": "@jupyter-widgets/base",
            "_view_module_version": "1.2.0",
            "_view_name": "StyleView",
            "description_width": ""
          }
        },
        "1f0d6e9ed8bd414e8983b5b728dad2e0": {
          "model_module": "@jupyter-widgets/controls",
          "model_module_version": "1.5.0",
          "model_name": "HTMLModel",
          "state": {
            "_dom_classes": [],
            "_model_module": "@jupyter-widgets/controls",
            "_model_module_version": "1.5.0",
            "_model_name": "HTMLModel",
            "_view_count": null,
            "_view_module": "@jupyter-widgets/controls",
            "_view_module_version": "1.5.0",
            "_view_name": "HTMLView",
            "description": "",
            "description_tooltip": null,
            "layout": "IPY_MODEL_c16b586d96ad444fa039303f982df177",
            "placeholder": "​",
            "style": "IPY_MODEL_ab6693f0012a4118882cbe67815f6b5c",
            "value": " 1.21k/1.21k [00:00&lt;00:00, 42.6kB/s]"
          }
        },
        "21b8a0d7384c4f49ac1c9ec42a4f4a5b": {
          "model_module": "@jupyter-widgets/controls",
          "model_module_version": "1.5.0",
          "model_name": "DescriptionStyleModel",
          "state": {
            "_model_module": "@jupyter-widgets/controls",
            "_model_module_version": "1.5.0",
            "_model_name": "DescriptionStyleModel",
            "_view_count": null,
            "_view_module": "@jupyter-widgets/base",
            "_view_module_version": "1.2.0",
            "_view_name": "StyleView",
            "description_width": ""
          }
        },
        "2a15689eda514b73a8d2792ca78d616a": {
          "model_module": "@jupyter-widgets/controls",
          "model_module_version": "1.5.0",
          "model_name": "ProgressStyleModel",
          "state": {
            "_model_module": "@jupyter-widgets/controls",
            "_model_module_version": "1.5.0",
            "_model_name": "ProgressStyleModel",
            "_view_count": null,
            "_view_module": "@jupyter-widgets/base",
            "_view_module_version": "1.2.0",
            "_view_name": "StyleView",
            "bar_color": null,
            "description_width": ""
          }
        },
        "2cfca0b634af49aa8b752698c1d354a7": {
          "model_module": "@jupyter-widgets/controls",
          "model_module_version": "1.5.0",
          "model_name": "HTMLModel",
          "state": {
            "_dom_classes": [],
            "_model_module": "@jupyter-widgets/controls",
            "_model_module_version": "1.5.0",
            "_model_name": "HTMLModel",
            "_view_count": null,
            "_view_module": "@jupyter-widgets/controls",
            "_view_module_version": "1.5.0",
            "_view_name": "HTMLView",
            "description": "",
            "description_tooltip": null,
            "layout": "IPY_MODEL_8d8456b438eb4770b7c170301461e8fe",
            "placeholder": "​",
            "style": "IPY_MODEL_116562761e5f4e94bb97c69809ad9ed2",
            "value": "config.json: 100%"
          }
        },
        "36110cc11ca04ce8b18218c98bdf9e42": {
          "model_module": "@jupyter-widgets/controls",
          "model_module_version": "1.5.0",
          "model_name": "FloatProgressModel",
          "state": {
            "_dom_classes": [],
            "_model_module": "@jupyter-widgets/controls",
            "_model_module_version": "1.5.0",
            "_model_name": "FloatProgressModel",
            "_view_count": null,
            "_view_module": "@jupyter-widgets/controls",
            "_view_module_version": "1.5.0",
            "_view_name": "ProgressView",
            "bar_style": "success",
            "description": "",
            "description_tooltip": null,
            "layout": "IPY_MODEL_1427e411e50a4aa3ac5c939a837cd1fb",
            "max": 1856,
            "min": 0,
            "orientation": "horizontal",
            "style": "IPY_MODEL_2a15689eda514b73a8d2792ca78d616a",
            "value": 1856
          }
        },
        "37d85fddbf1c44af8c8dfb02a18b5036": {
          "model_module": "@jupyter-widgets/base",
          "model_module_version": "1.2.0",
          "model_name": "LayoutModel",
          "state": {
            "_model_module": "@jupyter-widgets/base",
            "_model_module_version": "1.2.0",
            "_model_name": "LayoutModel",
            "_view_count": null,
            "_view_module": "@jupyter-widgets/base",
            "_view_module_version": "1.2.0",
            "_view_name": "LayoutView",
            "align_content": null,
            "align_items": null,
            "align_self": null,
            "border": null,
            "bottom": null,
            "display": null,
            "flex": null,
            "flex_flow": null,
            "grid_area": null,
            "grid_auto_columns": null,
            "grid_auto_flow": null,
            "grid_auto_rows": null,
            "grid_column": null,
            "grid_gap": null,
            "grid_row": null,
            "grid_template_areas": null,
            "grid_template_columns": null,
            "grid_template_rows": null,
            "height": null,
            "justify_content": null,
            "justify_items": null,
            "left": null,
            "margin": null,
            "max_height": null,
            "max_width": null,
            "min_height": null,
            "min_width": null,
            "object_fit": null,
            "object_position": null,
            "order": null,
            "overflow": null,
            "overflow_x": null,
            "overflow_y": null,
            "padding": null,
            "right": null,
            "top": null,
            "visibility": null,
            "width": null
          }
        },
        "3ac77c00c228441a9cbc5737800dcc21": {
          "model_module": "@jupyter-widgets/base",
          "model_module_version": "1.2.0",
          "model_name": "LayoutModel",
          "state": {
            "_model_module": "@jupyter-widgets/base",
            "_model_module_version": "1.2.0",
            "_model_name": "LayoutModel",
            "_view_count": null,
            "_view_module": "@jupyter-widgets/base",
            "_view_module_version": "1.2.0",
            "_view_name": "LayoutView",
            "align_content": null,
            "align_items": null,
            "align_self": null,
            "border": null,
            "bottom": null,
            "display": null,
            "flex": null,
            "flex_flow": null,
            "grid_area": null,
            "grid_auto_columns": null,
            "grid_auto_flow": null,
            "grid_auto_rows": null,
            "grid_column": null,
            "grid_gap": null,
            "grid_row": null,
            "grid_template_areas": null,
            "grid_template_columns": null,
            "grid_template_rows": null,
            "height": null,
            "justify_content": null,
            "justify_items": null,
            "left": null,
            "margin": null,
            "max_height": null,
            "max_width": null,
            "min_height": null,
            "min_width": null,
            "object_fit": null,
            "object_position": null,
            "order": null,
            "overflow": null,
            "overflow_x": null,
            "overflow_y": null,
            "padding": null,
            "right": null,
            "top": null,
            "visibility": null,
            "width": null
          }
        },
        "4055c9e15f614ac9a18397ef9cce6483": {
          "model_module": "@jupyter-widgets/controls",
          "model_module_version": "1.5.0",
          "model_name": "HTMLModel",
          "state": {
            "_dom_classes": [],
            "_model_module": "@jupyter-widgets/controls",
            "_model_module_version": "1.5.0",
            "_model_name": "HTMLModel",
            "_view_count": null,
            "_view_module": "@jupyter-widgets/controls",
            "_view_module_version": "1.5.0",
            "_view_name": "HTMLView",
            "description": "",
            "description_tooltip": null,
            "layout": "IPY_MODEL_e9b04333459648008b5fa08d64cfcc74",
            "placeholder": "​",
            "style": "IPY_MODEL_6f32de4beba54c578f07920add781c72",
            "value": "special_tokens_map.json: 100%"
          }
        },
        "43011fd73a1d4b2ebacfb0f2517a8f7b": {
          "model_module": "@jupyter-widgets/base",
          "model_module_version": "1.2.0",
          "model_name": "LayoutModel",
          "state": {
            "_model_module": "@jupyter-widgets/base",
            "_model_module_version": "1.2.0",
            "_model_name": "LayoutModel",
            "_view_count": null,
            "_view_module": "@jupyter-widgets/base",
            "_view_module_version": "1.2.0",
            "_view_name": "LayoutView",
            "align_content": null,
            "align_items": null,
            "align_self": null,
            "border": null,
            "bottom": null,
            "display": null,
            "flex": null,
            "flex_flow": null,
            "grid_area": null,
            "grid_auto_columns": null,
            "grid_auto_flow": null,
            "grid_auto_rows": null,
            "grid_column": null,
            "grid_gap": null,
            "grid_row": null,
            "grid_template_areas": null,
            "grid_template_columns": null,
            "grid_template_rows": null,
            "height": null,
            "justify_content": null,
            "justify_items": null,
            "left": null,
            "margin": null,
            "max_height": null,
            "max_width": null,
            "min_height": null,
            "min_width": null,
            "object_fit": null,
            "object_position": null,
            "order": null,
            "overflow": null,
            "overflow_x": null,
            "overflow_y": null,
            "padding": null,
            "right": null,
            "top": null,
            "visibility": null,
            "width": null
          }
        },
        "4f43396bf37d4b82934e3515caab14cb": {
          "model_module": "@jupyter-widgets/controls",
          "model_module_version": "1.5.0",
          "model_name": "DescriptionStyleModel",
          "state": {
            "_model_module": "@jupyter-widgets/controls",
            "_model_module_version": "1.5.0",
            "_model_name": "DescriptionStyleModel",
            "_view_count": null,
            "_view_module": "@jupyter-widgets/base",
            "_view_module_version": "1.2.0",
            "_view_name": "StyleView",
            "description_width": ""
          }
        },
        "4f596767ea0449e5bca586e56d31fe71": {
          "model_module": "@jupyter-widgets/base",
          "model_module_version": "1.2.0",
          "model_name": "LayoutModel",
          "state": {
            "_model_module": "@jupyter-widgets/base",
            "_model_module_version": "1.2.0",
            "_model_name": "LayoutModel",
            "_view_count": null,
            "_view_module": "@jupyter-widgets/base",
            "_view_module_version": "1.2.0",
            "_view_name": "LayoutView",
            "align_content": null,
            "align_items": null,
            "align_self": null,
            "border": null,
            "bottom": null,
            "display": null,
            "flex": null,
            "flex_flow": null,
            "grid_area": null,
            "grid_auto_columns": null,
            "grid_auto_flow": null,
            "grid_auto_rows": null,
            "grid_column": null,
            "grid_gap": null,
            "grid_row": null,
            "grid_template_areas": null,
            "grid_template_columns": null,
            "grid_template_rows": null,
            "height": null,
            "justify_content": null,
            "justify_items": null,
            "left": null,
            "margin": null,
            "max_height": null,
            "max_width": null,
            "min_height": null,
            "min_width": null,
            "object_fit": null,
            "object_position": null,
            "order": null,
            "overflow": null,
            "overflow_x": null,
            "overflow_y": null,
            "padding": null,
            "right": null,
            "top": null,
            "visibility": null,
            "width": null
          }
        },
        "670119cafa284b4aa328ed0e7630c24a": {
          "model_module": "@jupyter-widgets/base",
          "model_module_version": "1.2.0",
          "model_name": "LayoutModel",
          "state": {
            "_model_module": "@jupyter-widgets/base",
            "_model_module_version": "1.2.0",
            "_model_name": "LayoutModel",
            "_view_count": null,
            "_view_module": "@jupyter-widgets/base",
            "_view_module_version": "1.2.0",
            "_view_name": "LayoutView",
            "align_content": null,
            "align_items": null,
            "align_self": null,
            "border": null,
            "bottom": null,
            "display": null,
            "flex": null,
            "flex_flow": null,
            "grid_area": null,
            "grid_auto_columns": null,
            "grid_auto_flow": null,
            "grid_auto_rows": null,
            "grid_column": null,
            "grid_gap": null,
            "grid_row": null,
            "grid_template_areas": null,
            "grid_template_columns": null,
            "grid_template_rows": null,
            "height": null,
            "justify_content": null,
            "justify_items": null,
            "left": null,
            "margin": null,
            "max_height": null,
            "max_width": null,
            "min_height": null,
            "min_width": null,
            "object_fit": null,
            "object_position": null,
            "order": null,
            "overflow": null,
            "overflow_x": null,
            "overflow_y": null,
            "padding": null,
            "right": null,
            "top": null,
            "visibility": null,
            "width": null
          }
        },
        "6780aa0ba0564e67ab692e987f71488d": {
          "model_module": "@jupyter-widgets/controls",
          "model_module_version": "1.5.0",
          "model_name": "HTMLModel",
          "state": {
            "_dom_classes": [],
            "_model_module": "@jupyter-widgets/controls",
            "_model_module_version": "1.5.0",
            "_model_name": "HTMLModel",
            "_view_count": null,
            "_view_module": "@jupyter-widgets/controls",
            "_view_module_version": "1.5.0",
            "_view_name": "HTMLView",
            "description": "",
            "description_tooltip": null,
            "layout": "IPY_MODEL_a95ebce7fbfb402d99330e154e5987ad",
            "placeholder": "​",
            "style": "IPY_MODEL_df1f047a78e74087a30f8fac612ab65c",
            "value": "spiece.model: 100%"
          }
        },
        "6b87889292bf43a1a60617d254d2ce21": {
          "model_module": "@jupyter-widgets/base",
          "model_module_version": "1.2.0",
          "model_name": "LayoutModel",
          "state": {
            "_model_module": "@jupyter-widgets/base",
            "_model_module_version": "1.2.0",
            "_model_name": "LayoutModel",
            "_view_count": null,
            "_view_module": "@jupyter-widgets/base",
            "_view_module_version": "1.2.0",
            "_view_name": "LayoutView",
            "align_content": null,
            "align_items": null,
            "align_self": null,
            "border": null,
            "bottom": null,
            "display": null,
            "flex": null,
            "flex_flow": null,
            "grid_area": null,
            "grid_auto_columns": null,
            "grid_auto_flow": null,
            "grid_auto_rows": null,
            "grid_column": null,
            "grid_gap": null,
            "grid_row": null,
            "grid_template_areas": null,
            "grid_template_columns": null,
            "grid_template_rows": null,
            "height": null,
            "justify_content": null,
            "justify_items": null,
            "left": null,
            "margin": null,
            "max_height": null,
            "max_width": null,
            "min_height": null,
            "min_width": null,
            "object_fit": null,
            "object_position": null,
            "order": null,
            "overflow": null,
            "overflow_x": null,
            "overflow_y": null,
            "padding": null,
            "right": null,
            "top": null,
            "visibility": null,
            "width": null
          }
        },
        "6bee71dc345e44e4a8e4cd679759d10f": {
          "model_module": "@jupyter-widgets/controls",
          "model_module_version": "1.5.0",
          "model_name": "HTMLModel",
          "state": {
            "_dom_classes": [],
            "_model_module": "@jupyter-widgets/controls",
            "_model_module_version": "1.5.0",
            "_model_name": "HTMLModel",
            "_view_count": null,
            "_view_module": "@jupyter-widgets/controls",
            "_view_module_version": "1.5.0",
            "_view_name": "HTMLView",
            "description": "",
            "description_tooltip": null,
            "layout": "IPY_MODEL_18f1baa564de4b98911d454fffe75e97",
            "placeholder": "​",
            "style": "IPY_MODEL_b176172fc7f04775a0911dbb581e8eb7",
            "value": " 1.79k/1.79k [00:00&lt;00:00, 106kB/s]"
          }
        },
        "6f32de4beba54c578f07920add781c72": {
          "model_module": "@jupyter-widgets/controls",
          "model_module_version": "1.5.0",
          "model_name": "DescriptionStyleModel",
          "state": {
            "_model_module": "@jupyter-widgets/controls",
            "_model_module_version": "1.5.0",
            "_model_name": "DescriptionStyleModel",
            "_view_count": null,
            "_view_module": "@jupyter-widgets/base",
            "_view_module_version": "1.2.0",
            "_view_name": "StyleView",
            "description_width": ""
          }
        },
        "792f3007924f4847ab1180d237d61d92": {
          "model_module": "@jupyter-widgets/controls",
          "model_module_version": "1.5.0",
          "model_name": "ProgressStyleModel",
          "state": {
            "_model_module": "@jupyter-widgets/controls",
            "_model_module_version": "1.5.0",
            "_model_name": "ProgressStyleModel",
            "_view_count": null,
            "_view_module": "@jupyter-widgets/base",
            "_view_module_version": "1.2.0",
            "_view_name": "StyleView",
            "bar_color": null,
            "description_width": ""
          }
        },
        "7b2afa0664ac490f967a25c20acb3507": {
          "model_module": "@jupyter-widgets/controls",
          "model_module_version": "1.5.0",
          "model_name": "FloatProgressModel",
          "state": {
            "_dom_classes": [],
            "_model_module": "@jupyter-widgets/controls",
            "_model_module_version": "1.5.0",
            "_model_name": "FloatProgressModel",
            "_view_count": null,
            "_view_module": "@jupyter-widgets/controls",
            "_view_module_version": "1.5.0",
            "_view_name": "ProgressView",
            "bar_style": "success",
            "description": "",
            "description_tooltip": null,
            "layout": "IPY_MODEL_def5befd003442679f8cadeaaf59134d",
            "max": 791656,
            "min": 0,
            "orientation": "horizontal",
            "style": "IPY_MODEL_e29ddf07f4f245e49b92c1d57a396ee1",
            "value": 791656
          }
        },
        "82903c33ae334eb9916b1caaeafaa7fa": {
          "model_module": "@jupyter-widgets/base",
          "model_module_version": "1.2.0",
          "model_name": "LayoutModel",
          "state": {
            "_model_module": "@jupyter-widgets/base",
            "_model_module_version": "1.2.0",
            "_model_name": "LayoutModel",
            "_view_count": null,
            "_view_module": "@jupyter-widgets/base",
            "_view_module_version": "1.2.0",
            "_view_name": "LayoutView",
            "align_content": null,
            "align_items": null,
            "align_self": null,
            "border": null,
            "bottom": null,
            "display": null,
            "flex": null,
            "flex_flow": null,
            "grid_area": null,
            "grid_auto_columns": null,
            "grid_auto_flow": null,
            "grid_auto_rows": null,
            "grid_column": null,
            "grid_gap": null,
            "grid_row": null,
            "grid_template_areas": null,
            "grid_template_columns": null,
            "grid_template_rows": null,
            "height": null,
            "justify_content": null,
            "justify_items": null,
            "left": null,
            "margin": null,
            "max_height": null,
            "max_width": null,
            "min_height": null,
            "min_width": null,
            "object_fit": null,
            "object_position": null,
            "order": null,
            "overflow": null,
            "overflow_x": null,
            "overflow_y": null,
            "padding": null,
            "right": null,
            "top": null,
            "visibility": null,
            "width": null
          }
        },
        "829bb3121f9646688ed8f7acc0191b3e": {
          "model_module": "@jupyter-widgets/controls",
          "model_module_version": "1.5.0",
          "model_name": "HTMLModel",
          "state": {
            "_dom_classes": [],
            "_model_module": "@jupyter-widgets/controls",
            "_model_module_version": "1.5.0",
            "_model_name": "HTMLModel",
            "_view_count": null,
            "_view_module": "@jupyter-widgets/controls",
            "_view_module_version": "1.5.0",
            "_view_name": "HTMLView",
            "description": "",
            "description_tooltip": null,
            "layout": "IPY_MODEL_075552c6a6b04efeb58d1f2dbde72c36",
            "placeholder": "​",
            "style": "IPY_MODEL_1bb2b27efa5242c29920af5821eefd3b",
            "value": " 892M/892M [00:10&lt;00:00, 104MB/s]"
          }
        },
        "865c3da581054a0fb8b8a86923a135ea": {
          "model_module": "@jupyter-widgets/base",
          "model_module_version": "1.2.0",
          "model_name": "LayoutModel",
          "state": {
            "_model_module": "@jupyter-widgets/base",
            "_model_module_version": "1.2.0",
            "_model_name": "LayoutModel",
            "_view_count": null,
            "_view_module": "@jupyter-widgets/base",
            "_view_module_version": "1.2.0",
            "_view_name": "LayoutView",
            "align_content": null,
            "align_items": null,
            "align_self": null,
            "border": null,
            "bottom": null,
            "display": null,
            "flex": null,
            "flex_flow": null,
            "grid_area": null,
            "grid_auto_columns": null,
            "grid_auto_flow": null,
            "grid_auto_rows": null,
            "grid_column": null,
            "grid_gap": null,
            "grid_row": null,
            "grid_template_areas": null,
            "grid_template_columns": null,
            "grid_template_rows": null,
            "height": null,
            "justify_content": null,
            "justify_items": null,
            "left": null,
            "margin": null,
            "max_height": null,
            "max_width": null,
            "min_height": null,
            "min_width": null,
            "object_fit": null,
            "object_position": null,
            "order": null,
            "overflow": null,
            "overflow_x": null,
            "overflow_y": null,
            "padding": null,
            "right": null,
            "top": null,
            "visibility": null,
            "width": null
          }
        },
        "8cad9232f2c244ea880e52eb951b3965": {
          "model_module": "@jupyter-widgets/controls",
          "model_module_version": "1.5.0",
          "model_name": "ProgressStyleModel",
          "state": {
            "_model_module": "@jupyter-widgets/controls",
            "_model_module_version": "1.5.0",
            "_model_name": "ProgressStyleModel",
            "_view_count": null,
            "_view_module": "@jupyter-widgets/base",
            "_view_module_version": "1.2.0",
            "_view_name": "StyleView",
            "bar_color": null,
            "description_width": ""
          }
        },
        "8d8456b438eb4770b7c170301461e8fe": {
          "model_module": "@jupyter-widgets/base",
          "model_module_version": "1.2.0",
          "model_name": "LayoutModel",
          "state": {
            "_model_module": "@jupyter-widgets/base",
            "_model_module_version": "1.2.0",
            "_model_name": "LayoutModel",
            "_view_count": null,
            "_view_module": "@jupyter-widgets/base",
            "_view_module_version": "1.2.0",
            "_view_name": "LayoutView",
            "align_content": null,
            "align_items": null,
            "align_self": null,
            "border": null,
            "bottom": null,
            "display": null,
            "flex": null,
            "flex_flow": null,
            "grid_area": null,
            "grid_auto_columns": null,
            "grid_auto_flow": null,
            "grid_auto_rows": null,
            "grid_column": null,
            "grid_gap": null,
            "grid_row": null,
            "grid_template_areas": null,
            "grid_template_columns": null,
            "grid_template_rows": null,
            "height": null,
            "justify_content": null,
            "justify_items": null,
            "left": null,
            "margin": null,
            "max_height": null,
            "max_width": null,
            "min_height": null,
            "min_width": null,
            "object_fit": null,
            "object_position": null,
            "order": null,
            "overflow": null,
            "overflow_x": null,
            "overflow_y": null,
            "padding": null,
            "right": null,
            "top": null,
            "visibility": null,
            "width": null
          }
        },
        "8da4c30aa25f44bf8b63e055cf5f4fd5": {
          "model_module": "@jupyter-widgets/controls",
          "model_module_version": "1.5.0",
          "model_name": "DescriptionStyleModel",
          "state": {
            "_model_module": "@jupyter-widgets/controls",
            "_model_module_version": "1.5.0",
            "_model_name": "DescriptionStyleModel",
            "_view_count": null,
            "_view_module": "@jupyter-widgets/base",
            "_view_module_version": "1.2.0",
            "_view_name": "StyleView",
            "description_width": ""
          }
        },
        "93351c08333b4512b14b7b8797a8f98d": {
          "model_module": "@jupyter-widgets/controls",
          "model_module_version": "1.5.0",
          "model_name": "HBoxModel",
          "state": {
            "_dom_classes": [],
            "_model_module": "@jupyter-widgets/controls",
            "_model_module_version": "1.5.0",
            "_model_name": "HBoxModel",
            "_view_count": null,
            "_view_module": "@jupyter-widgets/controls",
            "_view_module_version": "1.5.0",
            "_view_name": "HBoxView",
            "box_style": "",
            "children": [
              "IPY_MODEL_03f819ab791e474f8dcf6fa5dbcbe644",
              "IPY_MODEL_36110cc11ca04ce8b18218c98bdf9e42",
              "IPY_MODEL_d2c16e4ce4ce4b35a513901aeb378380"
            ],
            "layout": "IPY_MODEL_865c3da581054a0fb8b8a86923a135ea"
          }
        },
        "a2ae62c267eb4a3f863f51b0253797e0": {
          "model_module": "@jupyter-widgets/base",
          "model_module_version": "1.2.0",
          "model_name": "LayoutModel",
          "state": {
            "_model_module": "@jupyter-widgets/base",
            "_model_module_version": "1.2.0",
            "_model_name": "LayoutModel",
            "_view_count": null,
            "_view_module": "@jupyter-widgets/base",
            "_view_module_version": "1.2.0",
            "_view_name": "LayoutView",
            "align_content": null,
            "align_items": null,
            "align_self": null,
            "border": null,
            "bottom": null,
            "display": null,
            "flex": null,
            "flex_flow": null,
            "grid_area": null,
            "grid_auto_columns": null,
            "grid_auto_flow": null,
            "grid_auto_rows": null,
            "grid_column": null,
            "grid_gap": null,
            "grid_row": null,
            "grid_template_areas": null,
            "grid_template_columns": null,
            "grid_template_rows": null,
            "height": null,
            "justify_content": null,
            "justify_items": null,
            "left": null,
            "margin": null,
            "max_height": null,
            "max_width": null,
            "min_height": null,
            "min_width": null,
            "object_fit": null,
            "object_position": null,
            "order": null,
            "overflow": null,
            "overflow_x": null,
            "overflow_y": null,
            "padding": null,
            "right": null,
            "top": null,
            "visibility": null,
            "width": null
          }
        },
        "a95ebce7fbfb402d99330e154e5987ad": {
          "model_module": "@jupyter-widgets/base",
          "model_module_version": "1.2.0",
          "model_name": "LayoutModel",
          "state": {
            "_model_module": "@jupyter-widgets/base",
            "_model_module_version": "1.2.0",
            "_model_name": "LayoutModel",
            "_view_count": null,
            "_view_module": "@jupyter-widgets/base",
            "_view_module_version": "1.2.0",
            "_view_name": "LayoutView",
            "align_content": null,
            "align_items": null,
            "align_self": null,
            "border": null,
            "bottom": null,
            "display": null,
            "flex": null,
            "flex_flow": null,
            "grid_area": null,
            "grid_auto_columns": null,
            "grid_auto_flow": null,
            "grid_auto_rows": null,
            "grid_column": null,
            "grid_gap": null,
            "grid_row": null,
            "grid_template_areas": null,
            "grid_template_columns": null,
            "grid_template_rows": null,
            "height": null,
            "justify_content": null,
            "justify_items": null,
            "left": null,
            "margin": null,
            "max_height": null,
            "max_width": null,
            "min_height": null,
            "min_width": null,
            "object_fit": null,
            "object_position": null,
            "order": null,
            "overflow": null,
            "overflow_x": null,
            "overflow_y": null,
            "padding": null,
            "right": null,
            "top": null,
            "visibility": null,
            "width": null
          }
        },
        "a98b84541915429a9889a6e5118be2ad": {
          "model_module": "@jupyter-widgets/base",
          "model_module_version": "1.2.0",
          "model_name": "LayoutModel",
          "state": {
            "_model_module": "@jupyter-widgets/base",
            "_model_module_version": "1.2.0",
            "_model_name": "LayoutModel",
            "_view_count": null,
            "_view_module": "@jupyter-widgets/base",
            "_view_module_version": "1.2.0",
            "_view_name": "LayoutView",
            "align_content": null,
            "align_items": null,
            "align_self": null,
            "border": null,
            "bottom": null,
            "display": null,
            "flex": null,
            "flex_flow": null,
            "grid_area": null,
            "grid_auto_columns": null,
            "grid_auto_flow": null,
            "grid_auto_rows": null,
            "grid_column": null,
            "grid_gap": null,
            "grid_row": null,
            "grid_template_areas": null,
            "grid_template_columns": null,
            "grid_template_rows": null,
            "height": null,
            "justify_content": null,
            "justify_items": null,
            "left": null,
            "margin": null,
            "max_height": null,
            "max_width": null,
            "min_height": null,
            "min_width": null,
            "object_fit": null,
            "object_position": null,
            "order": null,
            "overflow": null,
            "overflow_x": null,
            "overflow_y": null,
            "padding": null,
            "right": null,
            "top": null,
            "visibility": null,
            "width": null
          }
        },
        "aa948980212b468d99686293bb123e5f": {
          "model_module": "@jupyter-widgets/controls",
          "model_module_version": "1.5.0",
          "model_name": "HTMLModel",
          "state": {
            "_dom_classes": [],
            "_model_module": "@jupyter-widgets/controls",
            "_model_module_version": "1.5.0",
            "_model_name": "HTMLModel",
            "_view_count": null,
            "_view_module": "@jupyter-widgets/controls",
            "_view_module_version": "1.5.0",
            "_view_name": "HTMLView",
            "description": "",
            "description_tooltip": null,
            "layout": "IPY_MODEL_37d85fddbf1c44af8c8dfb02a18b5036",
            "placeholder": "​",
            "style": "IPY_MODEL_4f43396bf37d4b82934e3515caab14cb",
            "value": " 792k/792k [00:00&lt;00:00, 11.1MB/s]"
          }
        },
        "ab6693f0012a4118882cbe67815f6b5c": {
          "model_module": "@jupyter-widgets/controls",
          "model_module_version": "1.5.0",
          "model_name": "DescriptionStyleModel",
          "state": {
            "_model_module": "@jupyter-widgets/controls",
            "_model_module_version": "1.5.0",
            "_model_name": "DescriptionStyleModel",
            "_view_count": null,
            "_view_module": "@jupyter-widgets/base",
            "_view_module_version": "1.2.0",
            "_view_name": "StyleView",
            "description_width": ""
          }
        },
        "b176172fc7f04775a0911dbb581e8eb7": {
          "model_module": "@jupyter-widgets/controls",
          "model_module_version": "1.5.0",
          "model_name": "DescriptionStyleModel",
          "state": {
            "_model_module": "@jupyter-widgets/controls",
            "_model_module_version": "1.5.0",
            "_model_name": "DescriptionStyleModel",
            "_view_count": null,
            "_view_module": "@jupyter-widgets/base",
            "_view_module_version": "1.2.0",
            "_view_name": "StyleView",
            "description_width": ""
          }
        },
        "b7cf5507d5e542c6b29a3eb2c506682b": {
          "model_module": "@jupyter-widgets/controls",
          "model_module_version": "1.5.0",
          "model_name": "HBoxModel",
          "state": {
            "_dom_classes": [],
            "_model_module": "@jupyter-widgets/controls",
            "_model_module_version": "1.5.0",
            "_model_name": "HBoxModel",
            "_view_count": null,
            "_view_module": "@jupyter-widgets/controls",
            "_view_module_version": "1.5.0",
            "_view_name": "HBoxView",
            "box_style": "",
            "children": [
              "IPY_MODEL_4055c9e15f614ac9a18397ef9cce6483",
              "IPY_MODEL_010cc7db9c02456282fbed8242cf0807",
              "IPY_MODEL_6bee71dc345e44e4a8e4cd679759d10f"
            ],
            "layout": "IPY_MODEL_facee4c45cd74482b5e7e8c7816e7ae1"
          }
        },
        "bdf8665d638442b2b6fe1ae8fc679a17": {
          "model_module": "@jupyter-widgets/base",
          "model_module_version": "1.2.0",
          "model_name": "LayoutModel",
          "state": {
            "_model_module": "@jupyter-widgets/base",
            "_model_module_version": "1.2.0",
            "_model_name": "LayoutModel",
            "_view_count": null,
            "_view_module": "@jupyter-widgets/base",
            "_view_module_version": "1.2.0",
            "_view_name": "LayoutView",
            "align_content": null,
            "align_items": null,
            "align_self": null,
            "border": null,
            "bottom": null,
            "display": null,
            "flex": null,
            "flex_flow": null,
            "grid_area": null,
            "grid_auto_columns": null,
            "grid_auto_flow": null,
            "grid_auto_rows": null,
            "grid_column": null,
            "grid_gap": null,
            "grid_row": null,
            "grid_template_areas": null,
            "grid_template_columns": null,
            "grid_template_rows": null,
            "height": null,
            "justify_content": null,
            "justify_items": null,
            "left": null,
            "margin": null,
            "max_height": null,
            "max_width": null,
            "min_height": null,
            "min_width": null,
            "object_fit": null,
            "object_position": null,
            "order": null,
            "overflow": null,
            "overflow_x": null,
            "overflow_y": null,
            "padding": null,
            "right": null,
            "top": null,
            "visibility": null,
            "width": null
          }
        },
        "c06cf48573d84a3d8c8291762f438ede": {
          "model_module": "@jupyter-widgets/controls",
          "model_module_version": "1.5.0",
          "model_name": "HBoxModel",
          "state": {
            "_dom_classes": [],
            "_model_module": "@jupyter-widgets/controls",
            "_model_module_version": "1.5.0",
            "_model_name": "HBoxModel",
            "_view_count": null,
            "_view_module": "@jupyter-widgets/controls",
            "_view_module_version": "1.5.0",
            "_view_name": "HBoxView",
            "box_style": "",
            "children": [
              "IPY_MODEL_ff45576af22c4c2492729127b181aece",
              "IPY_MODEL_f3a300533b534296a43d68b2e9209466",
              "IPY_MODEL_829bb3121f9646688ed8f7acc0191b3e"
            ],
            "layout": "IPY_MODEL_6b87889292bf43a1a60617d254d2ce21"
          }
        },
        "c16b586d96ad444fa039303f982df177": {
          "model_module": "@jupyter-widgets/base",
          "model_module_version": "1.2.0",
          "model_name": "LayoutModel",
          "state": {
            "_model_module": "@jupyter-widgets/base",
            "_model_module_version": "1.2.0",
            "_model_name": "LayoutModel",
            "_view_count": null,
            "_view_module": "@jupyter-widgets/base",
            "_view_module_version": "1.2.0",
            "_view_name": "LayoutView",
            "align_content": null,
            "align_items": null,
            "align_self": null,
            "border": null,
            "bottom": null,
            "display": null,
            "flex": null,
            "flex_flow": null,
            "grid_area": null,
            "grid_auto_columns": null,
            "grid_auto_flow": null,
            "grid_auto_rows": null,
            "grid_column": null,
            "grid_gap": null,
            "grid_row": null,
            "grid_template_areas": null,
            "grid_template_columns": null,
            "grid_template_rows": null,
            "height": null,
            "justify_content": null,
            "justify_items": null,
            "left": null,
            "margin": null,
            "max_height": null,
            "max_width": null,
            "min_height": null,
            "min_width": null,
            "object_fit": null,
            "object_position": null,
            "order": null,
            "overflow": null,
            "overflow_x": null,
            "overflow_y": null,
            "padding": null,
            "right": null,
            "top": null,
            "visibility": null,
            "width": null
          }
        },
        "cb3e6eba944e4ac6b9ebe2ae29c8ea25": {
          "model_module": "@jupyter-widgets/controls",
          "model_module_version": "1.5.0",
          "model_name": "HBoxModel",
          "state": {
            "_dom_classes": [],
            "_model_module": "@jupyter-widgets/controls",
            "_model_module_version": "1.5.0",
            "_model_name": "HBoxModel",
            "_view_count": null,
            "_view_module": "@jupyter-widgets/controls",
            "_view_module_version": "1.5.0",
            "_view_name": "HBoxView",
            "box_style": "",
            "children": [
              "IPY_MODEL_2cfca0b634af49aa8b752698c1d354a7",
              "IPY_MODEL_fecfdda3d772479ca7e0c995d352a61c",
              "IPY_MODEL_1f0d6e9ed8bd414e8983b5b728dad2e0"
            ],
            "layout": "IPY_MODEL_a2ae62c267eb4a3f863f51b0253797e0"
          }
        },
        "d2c16e4ce4ce4b35a513901aeb378380": {
          "model_module": "@jupyter-widgets/controls",
          "model_module_version": "1.5.0",
          "model_name": "HTMLModel",
          "state": {
            "_dom_classes": [],
            "_model_module": "@jupyter-widgets/controls",
            "_model_module_version": "1.5.0",
            "_model_name": "HTMLModel",
            "_view_count": null,
            "_view_module": "@jupyter-widgets/controls",
            "_view_module_version": "1.5.0",
            "_view_name": "HTMLView",
            "description": "",
            "description_tooltip": null,
            "layout": "IPY_MODEL_4f596767ea0449e5bca586e56d31fe71",
            "placeholder": "​",
            "style": "IPY_MODEL_21b8a0d7384c4f49ac1c9ec42a4f4a5b",
            "value": " 1.86k/1.86k [00:00&lt;00:00, 128kB/s]"
          }
        },
        "def5befd003442679f8cadeaaf59134d": {
          "model_module": "@jupyter-widgets/base",
          "model_module_version": "1.2.0",
          "model_name": "LayoutModel",
          "state": {
            "_model_module": "@jupyter-widgets/base",
            "_model_module_version": "1.2.0",
            "_model_name": "LayoutModel",
            "_view_count": null,
            "_view_module": "@jupyter-widgets/base",
            "_view_module_version": "1.2.0",
            "_view_name": "LayoutView",
            "align_content": null,
            "align_items": null,
            "align_self": null,
            "border": null,
            "bottom": null,
            "display": null,
            "flex": null,
            "flex_flow": null,
            "grid_area": null,
            "grid_auto_columns": null,
            "grid_auto_flow": null,
            "grid_auto_rows": null,
            "grid_column": null,
            "grid_gap": null,
            "grid_row": null,
            "grid_template_areas": null,
            "grid_template_columns": null,
            "grid_template_rows": null,
            "height": null,
            "justify_content": null,
            "justify_items": null,
            "left": null,
            "margin": null,
            "max_height": null,
            "max_width": null,
            "min_height": null,
            "min_width": null,
            "object_fit": null,
            "object_position": null,
            "order": null,
            "overflow": null,
            "overflow_x": null,
            "overflow_y": null,
            "padding": null,
            "right": null,
            "top": null,
            "visibility": null,
            "width": null
          }
        },
        "df1f047a78e74087a30f8fac612ab65c": {
          "model_module": "@jupyter-widgets/controls",
          "model_module_version": "1.5.0",
          "model_name": "DescriptionStyleModel",
          "state": {
            "_model_module": "@jupyter-widgets/controls",
            "_model_module_version": "1.5.0",
            "_model_name": "DescriptionStyleModel",
            "_view_count": null,
            "_view_module": "@jupyter-widgets/base",
            "_view_module_version": "1.2.0",
            "_view_name": "StyleView",
            "description_width": ""
          }
        },
        "e29ddf07f4f245e49b92c1d57a396ee1": {
          "model_module": "@jupyter-widgets/controls",
          "model_module_version": "1.5.0",
          "model_name": "ProgressStyleModel",
          "state": {
            "_model_module": "@jupyter-widgets/controls",
            "_model_module_version": "1.5.0",
            "_model_name": "ProgressStyleModel",
            "_view_count": null,
            "_view_module": "@jupyter-widgets/base",
            "_view_module_version": "1.2.0",
            "_view_name": "StyleView",
            "bar_color": null,
            "description_width": ""
          }
        },
        "e9b04333459648008b5fa08d64cfcc74": {
          "model_module": "@jupyter-widgets/base",
          "model_module_version": "1.2.0",
          "model_name": "LayoutModel",
          "state": {
            "_model_module": "@jupyter-widgets/base",
            "_model_module_version": "1.2.0",
            "_model_name": "LayoutModel",
            "_view_count": null,
            "_view_module": "@jupyter-widgets/base",
            "_view_module_version": "1.2.0",
            "_view_name": "LayoutView",
            "align_content": null,
            "align_items": null,
            "align_self": null,
            "border": null,
            "bottom": null,
            "display": null,
            "flex": null,
            "flex_flow": null,
            "grid_area": null,
            "grid_auto_columns": null,
            "grid_auto_flow": null,
            "grid_auto_rows": null,
            "grid_column": null,
            "grid_gap": null,
            "grid_row": null,
            "grid_template_areas": null,
            "grid_template_columns": null,
            "grid_template_rows": null,
            "height": null,
            "justify_content": null,
            "justify_items": null,
            "left": null,
            "margin": null,
            "max_height": null,
            "max_width": null,
            "min_height": null,
            "min_width": null,
            "object_fit": null,
            "object_position": null,
            "order": null,
            "overflow": null,
            "overflow_x": null,
            "overflow_y": null,
            "padding": null,
            "right": null,
            "top": null,
            "visibility": null,
            "width": null
          }
        },
        "f3a300533b534296a43d68b2e9209466": {
          "model_module": "@jupyter-widgets/controls",
          "model_module_version": "1.5.0",
          "model_name": "FloatProgressModel",
          "state": {
            "_dom_classes": [],
            "_model_module": "@jupyter-widgets/controls",
            "_model_module_version": "1.5.0",
            "_model_name": "FloatProgressModel",
            "_view_count": null,
            "_view_module": "@jupyter-widgets/controls",
            "_view_module_version": "1.5.0",
            "_view_name": "ProgressView",
            "bar_style": "success",
            "description": "",
            "description_tooltip": null,
            "layout": "IPY_MODEL_a98b84541915429a9889a6e5118be2ad",
            "max": 891695056,
            "min": 0,
            "orientation": "horizontal",
            "style": "IPY_MODEL_8cad9232f2c244ea880e52eb951b3965",
            "value": 891695056
          }
        },
        "fa9e991a27cd45e4bd776bf710c08c5a": {
          "model_module": "@jupyter-widgets/controls",
          "model_module_version": "1.5.0",
          "model_name": "DescriptionStyleModel",
          "state": {
            "_model_module": "@jupyter-widgets/controls",
            "_model_module_version": "1.5.0",
            "_model_name": "DescriptionStyleModel",
            "_view_count": null,
            "_view_module": "@jupyter-widgets/base",
            "_view_module_version": "1.2.0",
            "_view_name": "StyleView",
            "description_width": ""
          }
        },
        "facee4c45cd74482b5e7e8c7816e7ae1": {
          "model_module": "@jupyter-widgets/base",
          "model_module_version": "1.2.0",
          "model_name": "LayoutModel",
          "state": {
            "_model_module": "@jupyter-widgets/base",
            "_model_module_version": "1.2.0",
            "_model_name": "LayoutModel",
            "_view_count": null,
            "_view_module": "@jupyter-widgets/base",
            "_view_module_version": "1.2.0",
            "_view_name": "LayoutView",
            "align_content": null,
            "align_items": null,
            "align_self": null,
            "border": null,
            "bottom": null,
            "display": null,
            "flex": null,
            "flex_flow": null,
            "grid_area": null,
            "grid_auto_columns": null,
            "grid_auto_flow": null,
            "grid_auto_rows": null,
            "grid_column": null,
            "grid_gap": null,
            "grid_row": null,
            "grid_template_areas": null,
            "grid_template_columns": null,
            "grid_template_rows": null,
            "height": null,
            "justify_content": null,
            "justify_items": null,
            "left": null,
            "margin": null,
            "max_height": null,
            "max_width": null,
            "min_height": null,
            "min_width": null,
            "object_fit": null,
            "object_position": null,
            "order": null,
            "overflow": null,
            "overflow_x": null,
            "overflow_y": null,
            "padding": null,
            "right": null,
            "top": null,
            "visibility": null,
            "width": null
          }
        },
        "fecfdda3d772479ca7e0c995d352a61c": {
          "model_module": "@jupyter-widgets/controls",
          "model_module_version": "1.5.0",
          "model_name": "FloatProgressModel",
          "state": {
            "_dom_classes": [],
            "_model_module": "@jupyter-widgets/controls",
            "_model_module_version": "1.5.0",
            "_model_name": "FloatProgressModel",
            "_view_count": null,
            "_view_module": "@jupyter-widgets/controls",
            "_view_module_version": "1.5.0",
            "_view_name": "ProgressView",
            "bar_style": "success",
            "description": "",
            "description_tooltip": null,
            "layout": "IPY_MODEL_670119cafa284b4aa328ed0e7630c24a",
            "max": 1208,
            "min": 0,
            "orientation": "horizontal",
            "style": "IPY_MODEL_05cabfd805734f8e97c5d72bc5e85ca9",
            "value": 1208
          }
        },
        "ff45576af22c4c2492729127b181aece": {
          "model_module": "@jupyter-widgets/controls",
          "model_module_version": "1.5.0",
          "model_name": "HTMLModel",
          "state": {
            "_dom_classes": [],
            "_model_module": "@jupyter-widgets/controls",
            "_model_module_version": "1.5.0",
            "_model_name": "HTMLModel",
            "_view_count": null,
            "_view_module": "@jupyter-widgets/controls",
            "_view_module_version": "1.5.0",
            "_view_name": "HTMLView",
            "description": "",
            "description_tooltip": null,
            "layout": "IPY_MODEL_bdf8665d638442b2b6fe1ae8fc679a17",
            "placeholder": "​",
            "style": "IPY_MODEL_8da4c30aa25f44bf8b63e055cf5f4fd5",
            "value": "pytorch_model.bin: 100%"
          }
        }
      }
    }
  },
  "nbformat": 4,
  "nbformat_minor": 0
}
